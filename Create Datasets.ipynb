{
 "cells": [
  {
   "cell_type": "code",
   "execution_count": 1,
   "id": "1d5cac00-5bb7-49f2-90af-8ad0ea12721d",
   "metadata": {},
   "outputs": [],
   "source": [
    "import pandas as pd\n",
    "import numpy as np\n",
    "from tools.parsers import InterProParser, SemanticSimilarityParser\n",
    "from tools.utils import assert_lexicographical_order, save_list_to_file\n",
    "from tools.datasets import SemanticSimilarityDataset\n",
    "from sklearn.model_selection import train_test_split\n",
    "from sklearn.preprocessing import MinMaxScaler\n",
    "import matplotlib.pyplot as plt\n",
    "import seaborn as sns\n",
    "import os"
   ]
  },
  {
   "cell_type": "code",
   "execution_count": 2,
   "id": "b38ac2a5-4629-4ba3-bafa-8cd2419ce519",
   "metadata": {},
   "outputs": [],
   "source": [
    "ip = InterProParser('../83333.interpro.out')\n",
    "ip_dataset = ip.parse(ret_type='dataset')\n",
    "ip_proteins = ip_dataset['Protein accession'].unique()\n",
    "ip_features = ip_dataset.columns[~ip_dataset.columns.isin(['Protein accession'])].to_numpy()"
   ]
  },
  {
   "cell_type": "code",
   "execution_count": 3,
   "id": "6b174052-4b24-4275-bc6a-e5ef1bcf0ae4",
   "metadata": {},
   "outputs": [],
   "source": [
    "ssp = SemanticSimilarityParser('../83333/bp.83333.ism_BP.txt')\n",
    "ss_proteins, ss_dataset = ssp.load_matrix_pd()"
   ]
  },
  {
   "cell_type": "code",
   "execution_count": 4,
   "id": "df5bb4c1-9563-42ba-8f38-b735e412e75e",
   "metadata": {},
   "outputs": [],
   "source": [
    "ss_dataset['scaled_similarity'] = MinMaxScaler().fit_transform(ss_dataset['similarity'].to_numpy().reshape(-1,1))"
   ]
  },
  {
   "cell_type": "code",
   "execution_count": 5,
   "id": "d67a2b5d-9afd-466d-a81a-095ce0daa01b",
   "metadata": {},
   "outputs": [
    {
     "data": {
      "text/plain": [
       "<seaborn.axisgrid.FacetGrid at 0x28465234e50>"
      ]
     },
     "execution_count": 5,
     "metadata": {},
     "output_type": "execute_result"
    },
    {
     "data": {
      "image/png": "[encoded data removed]",
      "text/plain": [
       "<Figure size 360x360 with 1 Axes>"
      ]
     },
     "metadata": {
      "needs_background": "light"
     },
     "output_type": "display_data"
    }
   ],
   "source": [
    "sns.displot(data=ss_dataset, x='similarity', kde=True)"
   ]
  },
  {
   "cell_type": "code",
   "execution_count": 6,
   "id": "89bb1d50-347e-4b05-bf38-9df0cdc5f712",
   "metadata": {},
   "outputs": [],
   "source": [
    "common_proteins = np.intersect1d(ip_proteins, ss_proteins)\n",
    "common_train, common_test = train_test_split(common_proteins, test_size=0.2)\n",
    "common_train, common_val = train_test_split(common_train, test_size=0.25)"
   ]
  },
  {
   "cell_type": "code",
   "execution_count": 7,
   "id": "6f6d9b24-08ce-43c8-8c44-360f8239cc1f",
   "metadata": {},
   "outputs": [],
   "source": [
    "train_dir = '../83333/train_data'\n",
    "val_dir = '../83333/val_data'\n",
    "test_dir = '../83333/test_data'\n",
    "\n",
    "for i in [train_dir, test_dir, val_dir]:\n",
    "    if not os.path.exists(i):\n",
    "        os.makedirs(i)"
   ]
  },
  {
   "cell_type": "code",
   "execution_count": 8,
   "id": "681df959-6695-43e5-b20e-36b2d8e4f70e",
   "metadata": {},
   "outputs": [],
   "source": [
    "condition_train = ip_dataset['Protein accession'].isin(common_train)\n",
    "X_train = ip_dataset[condition_train].copy().reset_index(drop=True)\n",
    "X_train.to_csv(os.path.join(train_dir, 'interpro.tab'), sep='\\t', index=False)\n",
    "\n",
    "condition_val = ip_dataset['Protein accession'].isin(common_val)\n",
    "X_val = ip_dataset[condition_val].copy().reset_index(drop=True)\n",
    "X_val.to_csv(os.path.join(val_dir, 'interpro.tab'), sep='\\t', index=False)\n",
    "\n",
    "condition_test = ip_dataset['Protein accession'].isin(common_test)\n",
    "X_test = ip_dataset[condition_test].copy().reset_index(drop=True)\n",
    "X_test.to_csv(os.path.join(test_dir, 'interpro.tab'), sep='\\t', index=False)"
   ]
  },
  {
   "cell_type": "code",
   "execution_count": 9,
   "id": "3f0cde2a-3ba7-4328-8a1f-255b532ad273",
   "metadata": {},
   "outputs": [],
   "source": [
    "condition_train = ss_dataset['protein1'].isin(common_train) & ss_dataset['protein2'].isin(common_train)\n",
    "y_train = ss_dataset[condition_train].copy().reset_index(drop=True)\n",
    "y_train.to_csv(os.path.join(train_dir, 'bp-ss.tab'), sep='\\t', index=False)\n",
    "\n",
    "condition_val = ss_dataset['protein1'].isin(common_val) & ss_dataset['protein2'].isin(common_val)\n",
    "y_val = ss_dataset[condition_val].copy().reset_index(drop=True)\n",
    "y_val.to_csv(os.path.join(val_dir, 'bp-ss.tab'), sep='\\t', index=False)\n",
    "\n",
    "condition_test = ss_dataset['protein1'].isin(common_test) & ss_dataset['protein2'].isin(common_test)\n",
    "y_test = ss_dataset[condition_test].copy().reset_index(drop=True)\n",
    "y_test.to_csv(os.path.join(test_dir, 'bp-ss.tab'), sep='\\t', index=False)"
   ]
  },
  {
   "cell_type": "code",
   "execution_count": null,
   "id": "389b2b7e-2121-4e29-9f85-1dc6b94016e9",
   "metadata": {},
   "outputs": [],
   "source": [
    "X_test[X_test['Protein accession'] == 'C1P615'][ip_features].values.shape\n"
   ]
  },
  {
   "cell_type": "code",
   "execution_count": null,
   "id": "d6b9319a-8fa6-4caa-98ce-82b3e8ab061f",
   "metadata": {},
   "outputs": [],
   "source": [
    "ip_dict = {}\n",
    "for protein in X_test['Protein accession'].unique():\n",
    "    ip_dict[protein] = X_test[X_test['Protein accession'] == protein][ip_features].to_numpy().flatten()"
   ]
  },
  {
   "cell_type": "code",
   "execution_count": 14,
   "id": "f44e90d3-2cf9-4e49-b07f-6f3e722049e0",
   "metadata": {},
   "outputs": [
    {
     "data": {
      "text/plain": [
       "(1362,)"
      ]
     },
     "execution_count": 14,
     "metadata": {},
     "output_type": "execute_result"
    }
   ],
   "source": [
    "common_train.shape"
   ]
  },
  {
   "cell_type": "code",
   "execution_count": 15,
   "id": "cf5923e4-5ef7-41e3-a2d8-d6358872ff95",
   "metadata": {},
   "outputs": [
    {
     "data": {
      "text/html": [
       "<div>\n",
       "<style scoped>\n",
       "    .dataframe tbody tr th:only-of-type {\n",
       "        vertical-align: middle;\n",
       "    }\n",
       "\n",
       "    .dataframe tbody tr th {\n",
       "        vertical-align: top;\n",
       "    }\n",
       "\n",
       "    .dataframe thead th {\n",
       "        text-align: right;\n",
       "    }\n",
       "</style>\n",
       "<table border=\"1\" class=\"dataframe\">\n",
       "  <thead>\n",
       "    <tr style=\"text-align: right;\">\n",
       "      <th></th>\n",
       "      <th>protein1</th>\n",
       "      <th>protein2</th>\n",
       "      <th>similarity</th>\n",
       "      <th>scaled_similarity</th>\n",
       "    </tr>\n",
       "  </thead>\n",
       "  <tbody>\n",
       "    <tr>\n",
       "      <th>0</th>\n",
       "      <td>C1P607</td>\n",
       "      <td>C1P607</td>\n",
       "      <td>3.069425</td>\n",
       "      <td>0.773387</td>\n",
       "    </tr>\n",
       "    <tr>\n",
       "      <th>1</th>\n",
       "      <td>C1P607</td>\n",
       "      <td>C1P615</td>\n",
       "      <td>3.066960</td>\n",
       "      <td>0.772766</td>\n",
       "    </tr>\n",
       "    <tr>\n",
       "      <th>2</th>\n",
       "      <td>C1P607</td>\n",
       "      <td>O32528</td>\n",
       "      <td>0.374140</td>\n",
       "      <td>0.094270</td>\n",
       "    </tr>\n",
       "    <tr>\n",
       "      <th>3</th>\n",
       "      <td>C1P607</td>\n",
       "      <td>P00350</td>\n",
       "      <td>0.374140</td>\n",
       "      <td>0.094270</td>\n",
       "    </tr>\n",
       "    <tr>\n",
       "      <th>4</th>\n",
       "      <td>C1P607</td>\n",
       "      <td>P00363</td>\n",
       "      <td>0.374140</td>\n",
       "      <td>0.094270</td>\n",
       "    </tr>\n",
       "    <tr>\n",
       "      <th>...</th>\n",
       "      <td>...</td>\n",
       "      <td>...</td>\n",
       "      <td>...</td>\n",
       "      <td>...</td>\n",
       "    </tr>\n",
       "    <tr>\n",
       "      <th>1855039</th>\n",
       "      <td>Q93K97</td>\n",
       "      <td>Q47690</td>\n",
       "      <td>0.806466</td>\n",
       "      <td>0.203201</td>\n",
       "    </tr>\n",
       "    <tr>\n",
       "      <th>1855040</th>\n",
       "      <td>Q93K97</td>\n",
       "      <td>Q59385</td>\n",
       "      <td>0.806466</td>\n",
       "      <td>0.203201</td>\n",
       "    </tr>\n",
       "    <tr>\n",
       "      <th>1855041</th>\n",
       "      <td>Q93K97</td>\n",
       "      <td>Q6BF16</td>\n",
       "      <td>0.000000</td>\n",
       "      <td>0.000000</td>\n",
       "    </tr>\n",
       "    <tr>\n",
       "      <th>1855042</th>\n",
       "      <td>Q93K97</td>\n",
       "      <td>Q6BF25</td>\n",
       "      <td>0.000000</td>\n",
       "      <td>0.000000</td>\n",
       "    </tr>\n",
       "    <tr>\n",
       "      <th>1855043</th>\n",
       "      <td>Q93K97</td>\n",
       "      <td>Q93K97</td>\n",
       "      <td>1.858109</td>\n",
       "      <td>0.468178</td>\n",
       "    </tr>\n",
       "  </tbody>\n",
       "</table>\n",
       "<p>1855044 rows × 4 columns</p>\n",
       "</div>"
      ],
      "text/plain": [
       "        protein1 protein2  similarity  scaled_similarity\n",
       "0         C1P607   C1P607    3.069425           0.773387\n",
       "1         C1P607   C1P615    3.066960           0.772766\n",
       "2         C1P607   O32528    0.374140           0.094270\n",
       "3         C1P607   P00350    0.374140           0.094270\n",
       "4         C1P607   P00363    0.374140           0.094270\n",
       "...          ...      ...         ...                ...\n",
       "1855039   Q93K97   Q47690    0.806466           0.203201\n",
       "1855040   Q93K97   Q59385    0.806466           0.203201\n",
       "1855041   Q93K97   Q6BF16    0.000000           0.000000\n",
       "1855042   Q93K97   Q6BF25    0.000000           0.000000\n",
       "1855043   Q93K97   Q93K97    1.858109           0.468178\n",
       "\n",
       "[1855044 rows x 4 columns]"
      ]
     },
     "execution_count": 15,
     "metadata": {},
     "output_type": "execute_result"
    }
   ],
   "source": [
    "y_train"
   ]
  },
  {
   "cell_type": "code",
   "execution_count": null,
   "id": "661e98fc-3306-400e-aa39-5ef965ad36ad",
   "metadata": {},
   "outputs": [],
   "source": []
  }
 ],
 "metadata": {
  "kernelspec": {
   "display_name": "Python 3 (ipykernel)",
   "language": "python",
   "name": "python3"
  },
  "language_info": {
   "codemirror_mode": {
    "name": "ipython",
    "version": 3
   },
   "file_extension": ".py",
   "mimetype": "text/x-python",
   "name": "python",
   "nbconvert_exporter": "python",
   "pygments_lexer": "ipython3",
   "version": "3.9.1"
  }
 },
 "nbformat": 4,
 "nbformat_minor": 5
}
