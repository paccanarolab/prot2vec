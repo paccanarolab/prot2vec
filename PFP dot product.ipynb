{
 "cells": [
  {
   "cell_type": "code",
   "execution_count": 22,
   "id": "9896bb3b-fb4e-4de3-850b-20806b6ad741",
   "metadata": {},
   "outputs": [],
   "source": [
    "import numpy as np\n",
    "import pandas as pd\n",
    "import matplotlib.pyplot as plt\n",
    "import seaborn as sns\n",
    "import os\n",
    "from scipy.spatial.distance import pdist, squareform\n",
    "from Utils import Configuration\n",
    "from models import SiameseSimilarityMultiTask\n",
    "from tools.datasets import FastMultitaskSemanticSimilarityDataset"
   ]
  },
  {
   "cell_type": "code",
   "execution_count": 101,
   "id": "7bfba88c-d7b7-4df6-9559-d2a72d57d150",
   "metadata": {},
   "outputs": [],
   "source": [
    "data_dir = \"/Users/torresmateo/OneDrive - FGV/prot2vec\"\n",
    "if os.name == 'nt':\n",
    "    data_dir = \"D:/OneDrive - FGV/prot2vec\"\n",
    "    "
   ]
  },
  {
   "cell_type": "code",
   "execution_count": 139,
   "id": "65fbb5fc-715f-4e69-8fb6-c9ed58b650d2",
   "metadata": {},
   "outputs": [],
   "source": [
    "config = Configuration.load_run(\"run-test.ini\")"
   ]
  },
  {
   "cell_type": "code",
   "execution_count": 140,
   "id": "96a38351-0396-426c-bee4-9c40f47ddbe8",
   "metadata": {},
   "outputs": [
    {
     "data": {
      "text/plain": [
       "{'configuration': {'config_file': 'config.ini'},\n",
       " 'model': {'dir_model_output': 'D:/OneDrive - FGV/prot2vec',\n",
       "  'batch_size_train': 256,\n",
       "  'batch_size_val': 256,\n",
       "  'batch_size_test': 256,\n",
       "  'dim_first_hidden_layer': 1024,\n",
       "  'alias': 'test.pt'},\n",
       " 'training': {'dir_training_out': 'D:/OneDrive - FGV/prot2vec',\n",
       "  'num_epochs': 10},\n",
       " 'dataset': {'dir_train': '../83333/train_data_not_homologous/',\n",
       "  'dir_val': '../83333/val_data_not_homologous/',\n",
       "  'dir_test': '../83333/test_data_not_homologous/',\n",
       "  'string_columns': ['neighborhood',\n",
       "   'fusion',\n",
       "   'cooccurence',\n",
       "   'coexpression',\n",
       "   'experiments',\n",
       "   'database',\n",
       "   'textmining'],\n",
       "  'negative_sampling': False,\n",
       "  'combine_string': True,\n",
       "  'include_homology': False,\n",
       "  'include_biogrid': False},\n",
       " 'representations': {'dir_representations_out': 'D:/OneDrive - FGV/prot2vec'},\n",
       " 'optimizer': {'learning_rate': 0.0006},\n",
       " 'loss': {'main_task_factor': 1.0}}"
      ]
     },
     "execution_count": 140,
     "metadata": {},
     "output_type": "execute_result"
    }
   ],
   "source": [
    "config"
   ]
  },
  {
   "cell_type": "code",
   "execution_count": 141,
   "id": "a3045c39-edb3-48ca-ab20-799ba2ef5ba6",
   "metadata": {},
   "outputs": [
    {
     "data": {
      "text/plain": [
       "256"
      ]
     },
     "execution_count": 141,
     "metadata": {},
     "output_type": "execute_result"
    }
   ],
   "source": [
    "config[\"model\"][\"dim_first_hidden_layer\"] // 4"
   ]
  },
  {
   "cell_type": "code",
   "execution_count": 142,
   "id": "89f933da-c312-44e1-98fb-79de028126cb",
   "metadata": {},
   "outputs": [],
   "source": [
    "dim = config[\"model\"][\"dim_first_hidden_layer\"]\n",
    "activation = 'sigmoid'\n",
    "model_filename =  f\"{config['model']['alias']}-representations.pkl\"\n",
    "model_name = f\"{config['model']['alias']}-{dim}\"\n",
    "vecs = pd.read_pickle(os.path.join(data_dir, model_filename))\n",
    "features = [f'prot2vec_{i}' for i in range(dim//2//2)]\n",
    "vecs = pd.concat([vecs, pd.DataFrame(vecs['vector'].to_list(), index=vecs.index, columns = features)], axis=1)\n",
    "vecs = vecs[['protein', 'set'] + features]"
   ]
  },
  {
   "cell_type": "code",
   "execution_count": 143,
   "id": "60f75f3a-9269-4fcd-8b4f-43179fd19f6f",
   "metadata": {},
   "outputs": [],
   "source": [
    "annotations = pd.read_table(os.path.join(data_dir, '83333', 'uppropagated-annotations.BP'))\n",
    "annotations.columns = ['protein', 'goterm']\n",
    "annotations = annotations.merge(vecs[['protein', 'set']])"
   ]
  },
  {
   "cell_type": "code",
   "execution_count": 144,
   "id": "23a7dab4-9529-4f98-b5d6-74c4e89db7ca",
   "metadata": {},
   "outputs": [
    {
     "data": {
      "text/plain": [
       "(2132,)"
      ]
     },
     "execution_count": 144,
     "metadata": {},
     "output_type": "execute_result"
    }
   ],
   "source": [
    "annotations.protein.unique().shape"
   ]
  },
  {
   "cell_type": "code",
   "execution_count": 145,
   "id": "3ae89bd2-6d2c-414d-b245-603553604e9f",
   "metadata": {},
   "outputs": [],
   "source": [
    "condition = annotations['set'].isin(['train', 'validation'])\n",
    "y = annotations[['protein', 'goterm']]\n",
    "y['value'] = 1\n",
    "y = y.pivot('protein', 'goterm', 'value').fillna(0).reset_index()"
   ]
  },
  {
   "cell_type": "code",
   "execution_count": 146,
   "id": "8e03c4fb-8e2c-40b2-bd59-e234dd92f2b1",
   "metadata": {},
   "outputs": [],
   "source": [
    "classes = y.columns[~y.columns.isin(['protein'])].to_numpy()"
   ]
  },
  {
   "cell_type": "code",
   "execution_count": 147,
   "id": "c1cddf15-e1d7-4c39-ad65-c43fe5a4cb7b",
   "metadata": {},
   "outputs": [],
   "source": [
    "dataset = vecs.merge(y)"
   ]
  },
  {
   "cell_type": "code",
   "execution_count": 148,
   "id": "b3cecd1c-52fd-42eb-a3a9-70870ba7753d",
   "metadata": {},
   "outputs": [
    {
     "data": {
      "text/html": [
       "<div>\n",
       "<style scoped>\n",
       "    .dataframe tbody tr th:only-of-type {\n",
       "        vertical-align: middle;\n",
       "    }\n",
       "\n",
       "    .dataframe tbody tr th {\n",
       "        vertical-align: top;\n",
       "    }\n",
       "\n",
       "    .dataframe thead th {\n",
       "        text-align: right;\n",
       "    }\n",
       "</style>\n",
       "<table border=\"1\" class=\"dataframe\">\n",
       "  <thead>\n",
       "    <tr style=\"text-align: right;\">\n",
       "      <th></th>\n",
       "      <th>protein</th>\n",
       "      <th>set</th>\n",
       "      <th>prot2vec_0</th>\n",
       "      <th>prot2vec_1</th>\n",
       "      <th>prot2vec_2</th>\n",
       "      <th>prot2vec_3</th>\n",
       "      <th>prot2vec_4</th>\n",
       "      <th>prot2vec_5</th>\n",
       "      <th>prot2vec_6</th>\n",
       "      <th>prot2vec_7</th>\n",
       "      <th>...</th>\n",
       "      <th>GO:2001023</th>\n",
       "      <th>GO:2001057</th>\n",
       "      <th>GO:2001060</th>\n",
       "      <th>GO:2001061</th>\n",
       "      <th>GO:2001124</th>\n",
       "      <th>GO:2001125</th>\n",
       "      <th>GO:2001141</th>\n",
       "      <th>GO:2001251</th>\n",
       "      <th>GO:2001313</th>\n",
       "      <th>GO:2001315</th>\n",
       "    </tr>\n",
       "  </thead>\n",
       "  <tbody>\n",
       "    <tr>\n",
       "      <th>0</th>\n",
       "      <td>C1P607</td>\n",
       "      <td>train</td>\n",
       "      <td>3.818000e-22</td>\n",
       "      <td>0.016520</td>\n",
       "      <td>4.992979e-31</td>\n",
       "      <td>1.400548e-27</td>\n",
       "      <td>2.047985e-28</td>\n",
       "      <td>1.956636e-24</td>\n",
       "      <td>6.294710e-03</td>\n",
       "      <td>0.000000e+00</td>\n",
       "      <td>...</td>\n",
       "      <td>0.0</td>\n",
       "      <td>0.0</td>\n",
       "      <td>0.0</td>\n",
       "      <td>0.0</td>\n",
       "      <td>0.0</td>\n",
       "      <td>0.0</td>\n",
       "      <td>0.0</td>\n",
       "      <td>0.0</td>\n",
       "      <td>0.0</td>\n",
       "      <td>0.0</td>\n",
       "    </tr>\n",
       "    <tr>\n",
       "      <th>1</th>\n",
       "      <td>C1P617</td>\n",
       "      <td>train</td>\n",
       "      <td>3.818000e-22</td>\n",
       "      <td>0.016520</td>\n",
       "      <td>4.992979e-31</td>\n",
       "      <td>1.400548e-27</td>\n",
       "      <td>2.047985e-28</td>\n",
       "      <td>1.956636e-24</td>\n",
       "      <td>6.294710e-03</td>\n",
       "      <td>0.000000e+00</td>\n",
       "      <td>...</td>\n",
       "      <td>0.0</td>\n",
       "      <td>0.0</td>\n",
       "      <td>0.0</td>\n",
       "      <td>0.0</td>\n",
       "      <td>0.0</td>\n",
       "      <td>0.0</td>\n",
       "      <td>0.0</td>\n",
       "      <td>0.0</td>\n",
       "      <td>0.0</td>\n",
       "      <td>0.0</td>\n",
       "    </tr>\n",
       "    <tr>\n",
       "      <th>2</th>\n",
       "      <td>P00350</td>\n",
       "      <td>train</td>\n",
       "      <td>1.350018e-24</td>\n",
       "      <td>0.000497</td>\n",
       "      <td>1.931030e-34</td>\n",
       "      <td>6.054573e-29</td>\n",
       "      <td>8.981612e-32</td>\n",
       "      <td>4.858820e-25</td>\n",
       "      <td>1.219443e-03</td>\n",
       "      <td>8.330125e-37</td>\n",
       "      <td>...</td>\n",
       "      <td>0.0</td>\n",
       "      <td>0.0</td>\n",
       "      <td>0.0</td>\n",
       "      <td>0.0</td>\n",
       "      <td>0.0</td>\n",
       "      <td>0.0</td>\n",
       "      <td>0.0</td>\n",
       "      <td>0.0</td>\n",
       "      <td>0.0</td>\n",
       "      <td>0.0</td>\n",
       "    </tr>\n",
       "    <tr>\n",
       "      <th>3</th>\n",
       "      <td>P00393</td>\n",
       "      <td>train</td>\n",
       "      <td>1.983889e-24</td>\n",
       "      <td>0.001665</td>\n",
       "      <td>2.517395e-34</td>\n",
       "      <td>1.033826e-28</td>\n",
       "      <td>1.184034e-31</td>\n",
       "      <td>7.410680e-25</td>\n",
       "      <td>1.800415e-03</td>\n",
       "      <td>1.532279e-36</td>\n",
       "      <td>...</td>\n",
       "      <td>0.0</td>\n",
       "      <td>0.0</td>\n",
       "      <td>0.0</td>\n",
       "      <td>0.0</td>\n",
       "      <td>0.0</td>\n",
       "      <td>0.0</td>\n",
       "      <td>0.0</td>\n",
       "      <td>0.0</td>\n",
       "      <td>0.0</td>\n",
       "      <td>0.0</td>\n",
       "    </tr>\n",
       "    <tr>\n",
       "      <th>4</th>\n",
       "      <td>P00448</td>\n",
       "      <td>train</td>\n",
       "      <td>3.668367e-27</td>\n",
       "      <td>0.072973</td>\n",
       "      <td>1.878670e-04</td>\n",
       "      <td>5.714374e-33</td>\n",
       "      <td>5.673670e-10</td>\n",
       "      <td>2.160612e-29</td>\n",
       "      <td>3.333220e-06</td>\n",
       "      <td>0.000000e+00</td>\n",
       "      <td>...</td>\n",
       "      <td>0.0</td>\n",
       "      <td>0.0</td>\n",
       "      <td>0.0</td>\n",
       "      <td>0.0</td>\n",
       "      <td>0.0</td>\n",
       "      <td>0.0</td>\n",
       "      <td>0.0</td>\n",
       "      <td>0.0</td>\n",
       "      <td>0.0</td>\n",
       "      <td>0.0</td>\n",
       "    </tr>\n",
       "    <tr>\n",
       "      <th>...</th>\n",
       "      <td>...</td>\n",
       "      <td>...</td>\n",
       "      <td>...</td>\n",
       "      <td>...</td>\n",
       "      <td>...</td>\n",
       "      <td>...</td>\n",
       "      <td>...</td>\n",
       "      <td>...</td>\n",
       "      <td>...</td>\n",
       "      <td>...</td>\n",
       "      <td>...</td>\n",
       "      <td>...</td>\n",
       "      <td>...</td>\n",
       "      <td>...</td>\n",
       "      <td>...</td>\n",
       "      <td>...</td>\n",
       "      <td>...</td>\n",
       "      <td>...</td>\n",
       "      <td>...</td>\n",
       "      <td>...</td>\n",
       "      <td>...</td>\n",
       "    </tr>\n",
       "    <tr>\n",
       "      <th>2127</th>\n",
       "      <td>Q47005</td>\n",
       "      <td>test</td>\n",
       "      <td>7.764564e-28</td>\n",
       "      <td>0.071640</td>\n",
       "      <td>2.900220e-01</td>\n",
       "      <td>1.390259e-33</td>\n",
       "      <td>2.334782e-04</td>\n",
       "      <td>5.190790e-30</td>\n",
       "      <td>9.699301e-07</td>\n",
       "      <td>0.000000e+00</td>\n",
       "      <td>...</td>\n",
       "      <td>0.0</td>\n",
       "      <td>0.0</td>\n",
       "      <td>0.0</td>\n",
       "      <td>0.0</td>\n",
       "      <td>0.0</td>\n",
       "      <td>0.0</td>\n",
       "      <td>1.0</td>\n",
       "      <td>0.0</td>\n",
       "      <td>0.0</td>\n",
       "      <td>0.0</td>\n",
       "    </tr>\n",
       "    <tr>\n",
       "      <th>2128</th>\n",
       "      <td>Q47129</td>\n",
       "      <td>test</td>\n",
       "      <td>4.603119e-24</td>\n",
       "      <td>0.983812</td>\n",
       "      <td>5.351386e-35</td>\n",
       "      <td>1.806901e-27</td>\n",
       "      <td>2.941678e-32</td>\n",
       "      <td>3.312039e-24</td>\n",
       "      <td>2.469603e-03</td>\n",
       "      <td>1.875379e-33</td>\n",
       "      <td>...</td>\n",
       "      <td>0.0</td>\n",
       "      <td>0.0</td>\n",
       "      <td>0.0</td>\n",
       "      <td>0.0</td>\n",
       "      <td>0.0</td>\n",
       "      <td>0.0</td>\n",
       "      <td>1.0</td>\n",
       "      <td>0.0</td>\n",
       "      <td>0.0</td>\n",
       "      <td>0.0</td>\n",
       "    </tr>\n",
       "    <tr>\n",
       "      <th>2129</th>\n",
       "      <td>Q47155</td>\n",
       "      <td>test</td>\n",
       "      <td>7.246217e-27</td>\n",
       "      <td>0.086696</td>\n",
       "      <td>1.874109e-06</td>\n",
       "      <td>1.129421e-32</td>\n",
       "      <td>4.095852e-11</td>\n",
       "      <td>4.396507e-29</td>\n",
       "      <td>5.606224e-06</td>\n",
       "      <td>0.000000e+00</td>\n",
       "      <td>...</td>\n",
       "      <td>0.0</td>\n",
       "      <td>0.0</td>\n",
       "      <td>0.0</td>\n",
       "      <td>0.0</td>\n",
       "      <td>0.0</td>\n",
       "      <td>0.0</td>\n",
       "      <td>0.0</td>\n",
       "      <td>0.0</td>\n",
       "      <td>0.0</td>\n",
       "      <td>0.0</td>\n",
       "    </tr>\n",
       "    <tr>\n",
       "      <th>2130</th>\n",
       "      <td>Q47536</td>\n",
       "      <td>test</td>\n",
       "      <td>4.764783e-23</td>\n",
       "      <td>0.081535</td>\n",
       "      <td>3.550844e-29</td>\n",
       "      <td>9.070165e-29</td>\n",
       "      <td>1.660844e-26</td>\n",
       "      <td>1.287589e-25</td>\n",
       "      <td>1.300501e-01</td>\n",
       "      <td>0.000000e+00</td>\n",
       "      <td>...</td>\n",
       "      <td>0.0</td>\n",
       "      <td>0.0</td>\n",
       "      <td>0.0</td>\n",
       "      <td>0.0</td>\n",
       "      <td>0.0</td>\n",
       "      <td>0.0</td>\n",
       "      <td>0.0</td>\n",
       "      <td>0.0</td>\n",
       "      <td>0.0</td>\n",
       "      <td>0.0</td>\n",
       "    </tr>\n",
       "    <tr>\n",
       "      <th>2131</th>\n",
       "      <td>Q47537</td>\n",
       "      <td>test</td>\n",
       "      <td>9.712011e-24</td>\n",
       "      <td>0.000054</td>\n",
       "      <td>1.146018e-32</td>\n",
       "      <td>2.042332e-28</td>\n",
       "      <td>5.637936e-30</td>\n",
       "      <td>6.224451e-25</td>\n",
       "      <td>2.337757e-03</td>\n",
       "      <td>2.754890e-37</td>\n",
       "      <td>...</td>\n",
       "      <td>0.0</td>\n",
       "      <td>0.0</td>\n",
       "      <td>0.0</td>\n",
       "      <td>0.0</td>\n",
       "      <td>0.0</td>\n",
       "      <td>0.0</td>\n",
       "      <td>0.0</td>\n",
       "      <td>0.0</td>\n",
       "      <td>0.0</td>\n",
       "      <td>0.0</td>\n",
       "    </tr>\n",
       "  </tbody>\n",
       "</table>\n",
       "<p>2132 rows × 2926 columns</p>\n",
       "</div>"
      ],
      "text/plain": [
       "     protein    set    prot2vec_0  prot2vec_1    prot2vec_2    prot2vec_3  \\\n",
       "0     C1P607  train  3.818000e-22    0.016520  4.992979e-31  1.400548e-27   \n",
       "1     C1P617  train  3.818000e-22    0.016520  4.992979e-31  1.400548e-27   \n",
       "2     P00350  train  1.350018e-24    0.000497  1.931030e-34  6.054573e-29   \n",
       "3     P00393  train  1.983889e-24    0.001665  2.517395e-34  1.033826e-28   \n",
       "4     P00448  train  3.668367e-27    0.072973  1.878670e-04  5.714374e-33   \n",
       "...      ...    ...           ...         ...           ...           ...   \n",
       "2127  Q47005   test  7.764564e-28    0.071640  2.900220e-01  1.390259e-33   \n",
       "2128  Q47129   test  4.603119e-24    0.983812  5.351386e-35  1.806901e-27   \n",
       "2129  Q47155   test  7.246217e-27    0.086696  1.874109e-06  1.129421e-32   \n",
       "2130  Q47536   test  4.764783e-23    0.081535  3.550844e-29  9.070165e-29   \n",
       "2131  Q47537   test  9.712011e-24    0.000054  1.146018e-32  2.042332e-28   \n",
       "\n",
       "        prot2vec_4    prot2vec_5    prot2vec_6    prot2vec_7  ...  GO:2001023  \\\n",
       "0     2.047985e-28  1.956636e-24  6.294710e-03  0.000000e+00  ...         0.0   \n",
       "1     2.047985e-28  1.956636e-24  6.294710e-03  0.000000e+00  ...         0.0   \n",
       "2     8.981612e-32  4.858820e-25  1.219443e-03  8.330125e-37  ...         0.0   \n",
       "3     1.184034e-31  7.410680e-25  1.800415e-03  1.532279e-36  ...         0.0   \n",
       "4     5.673670e-10  2.160612e-29  3.333220e-06  0.000000e+00  ...         0.0   \n",
       "...            ...           ...           ...           ...  ...         ...   \n",
       "2127  2.334782e-04  5.190790e-30  9.699301e-07  0.000000e+00  ...         0.0   \n",
       "2128  2.941678e-32  3.312039e-24  2.469603e-03  1.875379e-33  ...         0.0   \n",
       "2129  4.095852e-11  4.396507e-29  5.606224e-06  0.000000e+00  ...         0.0   \n",
       "2130  1.660844e-26  1.287589e-25  1.300501e-01  0.000000e+00  ...         0.0   \n",
       "2131  5.637936e-30  6.224451e-25  2.337757e-03  2.754890e-37  ...         0.0   \n",
       "\n",
       "      GO:2001057  GO:2001060  GO:2001061  GO:2001124  GO:2001125  GO:2001141  \\\n",
       "0            0.0         0.0         0.0         0.0         0.0         0.0   \n",
       "1            0.0         0.0         0.0         0.0         0.0         0.0   \n",
       "2            0.0         0.0         0.0         0.0         0.0         0.0   \n",
       "3            0.0         0.0         0.0         0.0         0.0         0.0   \n",
       "4            0.0         0.0         0.0         0.0         0.0         0.0   \n",
       "...          ...         ...         ...         ...         ...         ...   \n",
       "2127         0.0         0.0         0.0         0.0         0.0         1.0   \n",
       "2128         0.0         0.0         0.0         0.0         0.0         1.0   \n",
       "2129         0.0         0.0         0.0         0.0         0.0         0.0   \n",
       "2130         0.0         0.0         0.0         0.0         0.0         0.0   \n",
       "2131         0.0         0.0         0.0         0.0         0.0         0.0   \n",
       "\n",
       "      GO:2001251  GO:2001313  GO:2001315  \n",
       "0            0.0         0.0         0.0  \n",
       "1            0.0         0.0         0.0  \n",
       "2            0.0         0.0         0.0  \n",
       "3            0.0         0.0         0.0  \n",
       "4            0.0         0.0         0.0  \n",
       "...          ...         ...         ...  \n",
       "2127         0.0         0.0         0.0  \n",
       "2128         0.0         0.0         0.0  \n",
       "2129         0.0         0.0         0.0  \n",
       "2130         0.0         0.0         0.0  \n",
       "2131         0.0         0.0         0.0  \n",
       "\n",
       "[2132 rows x 2926 columns]"
      ]
     },
     "execution_count": 148,
     "metadata": {},
     "output_type": "execute_result"
    }
   ],
   "source": [
    "dataset"
   ]
  },
  {
   "cell_type": "code",
   "execution_count": 149,
   "id": "a1fc67be-c57d-4965-8bec-37a9c13d744b",
   "metadata": {},
   "outputs": [],
   "source": [
    "distances = squareform(pdist(np.stack(dataset[features].values), metric='cosine'))"
   ]
  },
  {
   "cell_type": "code",
   "execution_count": 150,
   "id": "ae8d4ba7-dc36-4dda-9f7c-ed22fa00566f",
   "metadata": {},
   "outputs": [],
   "source": [
    "X_dists_train = distances[dataset['set'].isin(['train', 'validation']),:][:,dataset['set'].isin(['train', 'validation'])]"
   ]
  },
  {
   "cell_type": "code",
   "execution_count": 151,
   "id": "f55de704-d9e8-4eab-a7d9-0d42253190be",
   "metadata": {},
   "outputs": [],
   "source": [
    "X_dists_test = distances[dataset['set'].isin(['test']),:][:,dataset['set'].isin(['train', 'validation'])]"
   ]
  },
  {
   "cell_type": "code",
   "execution_count": 152,
   "id": "a4da53cc-b5bc-422f-8279-97154c1dd31f",
   "metadata": {},
   "outputs": [
    {
     "data": {
      "text/plain": [
       "((1704, 1704), (428, 1704))"
      ]
     },
     "execution_count": 152,
     "metadata": {},
     "output_type": "execute_result"
    }
   ],
   "source": [
    "X_dists_train.shape, X_dists_test.shape"
   ]
  },
  {
   "cell_type": "code",
   "execution_count": 153,
   "id": "0b40b250-ea85-4d51-9d35-3ef6283d53b9",
   "metadata": {},
   "outputs": [],
   "source": [
    "condition = dataset['set'].isin(['train', 'validation'])\n",
    "X_train = dataset[condition][features].values\n",
    "y_train = dataset[condition][classes].values.astype(int)\n",
    "X_test = dataset[~condition][features].values\n",
    "y_test = dataset[~condition][classes].values.astype(int)"
   ]
  },
  {
   "cell_type": "code",
   "execution_count": 154,
   "id": "6d6ad279-c485-4815-bd8c-17be5acf456d",
   "metadata": {},
   "outputs": [
    {
     "data": {
      "text/plain": [
       "((1704, 256), (428, 256), (1704, 2668), (428, 2668))"
      ]
     },
     "execution_count": 154,
     "metadata": {},
     "output_type": "execute_result"
    }
   ],
   "source": [
    "X_train.shape, X_test.shape, y_train.shape, y_test.shape"
   ]
  },
  {
   "cell_type": "code",
   "execution_count": 155,
   "id": "12ef68e2-652f-4c50-95c0-233ee958bdca",
   "metadata": {},
   "outputs": [],
   "source": [
    "from models import MultiLabelKNeighborsClassifier\n",
    "from evaluation.metrics import get_metrics"
   ]
  },
  {
   "cell_type": "code",
   "execution_count": 156,
   "id": "50a90a59-b586-44b5-b0fe-d2f362341c0c",
   "metadata": {},
   "outputs": [
    {
     "data": {
      "application/vnd.jupyter.widget-view+json": {
       "model_id": "2130dc49ccc5469f806c82e7ed5c9c81",
       "version_major": 2,
       "version_minor": 0
      },
      "text/plain": [
       "Output()"
      ]
     },
     "metadata": {},
     "output_type": "display_data"
    },
    {
     "data": {
      "text/html": [
       "<pre style=\"white-space:pre;overflow-x:auto;line-height:normal;font-family:Menlo,'DejaVu Sans Mono',consolas,'Courier New',monospace\">\n",
       "</pre>\n"
      ],
      "text/plain": [
       "\n"
      ]
     },
     "metadata": {},
     "output_type": "display_data"
    },
    {
     "data": {
      "application/vnd.jupyter.widget-view+json": {
       "model_id": "3e6c3b631485434b9fe2658e76eaa6d3",
       "version_major": 2,
       "version_minor": 0
      },
      "text/plain": [
       "Output()"
      ]
     },
     "metadata": {},
     "output_type": "display_data"
    },
    {
     "data": {
      "text/html": [
       "<pre style=\"white-space:pre;overflow-x:auto;line-height:normal;font-family:Menlo,'DejaVu Sans Mono',consolas,'Courier New',monospace\">\n",
       "</pre>\n"
      ],
      "text/plain": [
       "\n"
      ]
     },
     "metadata": {},
     "output_type": "display_data"
    },
    {
     "data": {
      "text/html": [
       "<div>\n",
       "<style scoped>\n",
       "    .dataframe tbody tr th:only-of-type {\n",
       "        vertical-align: middle;\n",
       "    }\n",
       "\n",
       "    .dataframe tbody tr th {\n",
       "        vertical-align: top;\n",
       "    }\n",
       "\n",
       "    .dataframe thead th {\n",
       "        text-align: right;\n",
       "    }\n",
       "</style>\n",
       "<table border=\"1\" class=\"dataframe\">\n",
       "  <thead>\n",
       "    <tr style=\"text-align: right;\">\n",
       "      <th></th>\n",
       "      <th>f_max</th>\n",
       "      <th>s_min</th>\n",
       "      <th>auc_roc</th>\n",
       "      <th>auc_pr</th>\n",
       "      <th>model</th>\n",
       "    </tr>\n",
       "    <tr>\n",
       "      <th>metric_type</th>\n",
       "      <th></th>\n",
       "      <th></th>\n",
       "      <th></th>\n",
       "      <th></th>\n",
       "      <th></th>\n",
       "    </tr>\n",
       "  </thead>\n",
       "  <tbody>\n",
       "    <tr>\n",
       "      <th>per_gene</th>\n",
       "      <td>0.392841</td>\n",
       "      <td>0.077050</td>\n",
       "      <td>0.901388</td>\n",
       "      <td>0.255996</td>\n",
       "      <td>test.pt-1024</td>\n",
       "    </tr>\n",
       "    <tr>\n",
       "      <th>per_term</th>\n",
       "      <td>0.016847</td>\n",
       "      <td>14.211468</td>\n",
       "      <td>0.343681</td>\n",
       "      <td>0.002854</td>\n",
       "      <td>test.pt-1024</td>\n",
       "    </tr>\n",
       "  </tbody>\n",
       "</table>\n",
       "</div>"
      ],
      "text/plain": [
       "                f_max      s_min   auc_roc    auc_pr         model\n",
       "metric_type                                                       \n",
       "per_gene     0.392841   0.077050  0.901388  0.255996  test.pt-1024\n",
       "per_term     0.016847  14.211468  0.343681  0.002854  test.pt-1024"
      ]
     },
     "execution_count": 156,
     "metadata": {},
     "output_type": "execute_result"
    }
   ],
   "source": [
    "m = MultiLabelKNeighborsClassifier(metric='precomputed', n_neighbors=1)\n",
    "m.fit(X_dists_train, y_train)\n",
    "\n",
    "y_pred = m.predict(X_dists_test)\n",
    "y_proba = m.predict_proba(X_dists_test)\n",
    "y_pred = y_pred.todense()\n",
    "y_pred = y_pred.A\n",
    "y_proba = y_proba.todense()\n",
    "y_proba = y_proba.A\n",
    "\n",
    "information_content = pd.read_table(os.path.join(data_dir, '83333', 'uppropagated-annotations.IC'))\n",
    "information_content.set_index('goterm', inplace=True)\n",
    "ic_sorted = information_content.loc[classes].values.flatten()\n",
    "\n",
    "metrics = get_metrics(y_test, y_proba, ic_sorted)\n",
    "\n",
    "eval_metrics = ['f_max', 's_min', 'auc_roc', 'auc_pr']\n",
    "evaluation = metrics[eval_metrics + ['metric_type']]\n",
    "ev = evaluation.groupby('metric_type').mean()\n",
    "\n",
    "ev['model'] = model_name\n",
    "evaluations = []\n",
    "evaluations.append(ev)\n",
    "df = pd.concat(evaluations)\n",
    "df"
   ]
  },
  {
   "cell_type": "code",
   "execution_count": 157,
   "id": "3322fe5e-f1ff-4ba4-a46a-aa9702c77a13",
   "metadata": {},
   "outputs": [
    {
     "data": {
      "text/html": [
       "<div>\n",
       "<style scoped>\n",
       "    .dataframe tbody tr th:only-of-type {\n",
       "        vertical-align: middle;\n",
       "    }\n",
       "\n",
       "    .dataframe tbody tr th {\n",
       "        vertical-align: top;\n",
       "    }\n",
       "\n",
       "    .dataframe thead th {\n",
       "        text-align: right;\n",
       "    }\n",
       "</style>\n",
       "<table border=\"1\" class=\"dataframe\">\n",
       "  <thead>\n",
       "    <tr style=\"text-align: right;\">\n",
       "      <th></th>\n",
       "      <th>f_max</th>\n",
       "      <th>s_min</th>\n",
       "      <th>auc_roc</th>\n",
       "      <th>auc_pr</th>\n",
       "      <th>model</th>\n",
       "    </tr>\n",
       "    <tr>\n",
       "      <th>metric_type</th>\n",
       "      <th></th>\n",
       "      <th></th>\n",
       "      <th></th>\n",
       "      <th></th>\n",
       "      <th></th>\n",
       "    </tr>\n",
       "  </thead>\n",
       "  <tbody>\n",
       "    <tr>\n",
       "      <th>per_gene</th>\n",
       "      <td>0.392841</td>\n",
       "      <td>0.077050</td>\n",
       "      <td>0.901388</td>\n",
       "      <td>0.255996</td>\n",
       "      <td>test.pt-1024</td>\n",
       "    </tr>\n",
       "    <tr>\n",
       "      <th>per_term</th>\n",
       "      <td>0.016847</td>\n",
       "      <td>14.211468</td>\n",
       "      <td>0.343681</td>\n",
       "      <td>0.002854</td>\n",
       "      <td>test.pt-1024</td>\n",
       "    </tr>\n",
       "  </tbody>\n",
       "</table>\n",
       "</div>"
      ],
      "text/plain": [
       "                f_max      s_min   auc_roc    auc_pr         model\n",
       "metric_type                                                       \n",
       "per_gene     0.392841   0.077050  0.901388  0.255996  test.pt-1024\n",
       "per_term     0.016847  14.211468  0.343681  0.002854  test.pt-1024"
      ]
     },
     "execution_count": 157,
     "metadata": {},
     "output_type": "execute_result"
    }
   ],
   "source": [
    "df"
   ]
  },
  {
   "cell_type": "code",
   "execution_count": null,
   "id": "4090e350-232b-40cc-aef6-554ae04386e9",
   "metadata": {},
   "outputs": [],
   "source": []
  }
 ],
 "metadata": {
  "kernelspec": {
   "display_name": "Python 3 (ipykernel)",
   "language": "python",
   "name": "python3"
  },
  "language_info": {
   "codemirror_mode": {
    "name": "ipython",
    "version": 3
   },
   "file_extension": ".py",
   "mimetype": "text/x-python",
   "name": "python",
   "nbconvert_exporter": "python",
   "pygments_lexer": "ipython3",
   "version": "3.9.1"
  }
 },
 "nbformat": 4,
 "nbformat_minor": 5
}
