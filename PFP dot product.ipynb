{
 "cells": [
  {
   "cell_type": "code",
   "execution_count": 32,
   "id": "9896bb3b-fb4e-4de3-850b-20806b6ad741",
   "metadata": {},
   "outputs": [],
   "source": [
    "import numpy as np\n",
    "import pandas as pd\n",
    "import matplotlib.pyplot as plt\n",
    "import seaborn as sns\n",
    "import os\n",
    "from scipy.spatial.distance import pdist, squareform"
   ]
  },
  {
   "cell_type": "code",
   "execution_count": 33,
   "id": "7bfba88c-d7b7-4df6-9559-d2a72d57d150",
   "metadata": {},
   "outputs": [],
   "source": [
    "data_dir = \"/Users/torresmateo/OneDrive - FGV/prot2vec\"\n",
    "if os.name == 'nt':\n",
    "    data_dir = \"D:/OneDrive - FGV/prot2vec\"\n",
    "    "
   ]
  },
  {
   "cell_type": "code",
   "execution_count": 34,
   "id": "89f933da-c312-44e1-98fb-79de028126cb",
   "metadata": {},
   "outputs": [],
   "source": [
    "dim = 256\n",
    "activation = 'sigmoid'\n",
    "model_filename =  f\"[SiameseSimilarityNet-{activation}-{dim}]-200_epochs.pt-representations.pkl\"\n",
    "model_name = f'SiameseSimilarityNet-{activation}-{dim}'\n",
    "vecs = pd.read_pickle(os.path.join(data_dir, model_filename))\n",
    "features = [f'prot2vec_{i}' for i in range(dim//2//2)]\n",
    "vecs = pd.concat([vecs, pd.DataFrame(vecs['vector'].to_list(), index=vecs.index, columns = features)], axis=1)\n",
    "vecs = vecs[['protein', 'set'] + features]"
   ]
  },
  {
   "cell_type": "code",
   "execution_count": 35,
   "id": "60f75f3a-9269-4fcd-8b4f-43179fd19f6f",
   "metadata": {},
   "outputs": [],
   "source": [
    "annotations = pd.read_table(os.path.join(data_dir, '83333', 'uppropagated-annotations.BP'))\n",
    "annotations.columns = ['protein', 'goterm']\n",
    "annotations = annotations.merge(vecs[['protein', 'set']])"
   ]
  },
  {
   "cell_type": "code",
   "execution_count": 36,
   "id": "23a7dab4-9529-4f98-b5d6-74c4e89db7ca",
   "metadata": {},
   "outputs": [
    {
     "data": {
      "text/plain": [
       "(2252,)"
      ]
     },
     "execution_count": 36,
     "metadata": {},
     "output_type": "execute_result"
    }
   ],
   "source": [
    "annotations.protein.unique().shape"
   ]
  },
  {
   "cell_type": "code",
   "execution_count": 37,
   "id": "3ae89bd2-6d2c-414d-b245-603553604e9f",
   "metadata": {},
   "outputs": [],
   "source": [
    "condition = annotations['set'].isin(['train', 'validation'])\n",
    "y = annotations[['protein', 'goterm']]\n",
    "y['value'] = 1\n",
    "y = y.pivot('protein', 'goterm', 'value').fillna(0).reset_index()"
   ]
  },
  {
   "cell_type": "code",
   "execution_count": 38,
   "id": "8e03c4fb-8e2c-40b2-bd59-e234dd92f2b1",
   "metadata": {},
   "outputs": [],
   "source": [
    "classes = y.columns[~y.columns.isin(['protein'])].to_numpy()"
   ]
  },
  {
   "cell_type": "code",
   "execution_count": 39,
   "id": "c1cddf15-e1d7-4c39-ad65-c43fe5a4cb7b",
   "metadata": {},
   "outputs": [],
   "source": [
    "dataset = vecs.merge(y)"
   ]
  },
  {
   "cell_type": "code",
   "execution_count": 40,
   "id": "b3cecd1c-52fd-42eb-a3a9-70870ba7753d",
   "metadata": {},
   "outputs": [
    {
     "data": {
      "text/html": [
       "<div>\n",
       "<style scoped>\n",
       "    .dataframe tbody tr th:only-of-type {\n",
       "        vertical-align: middle;\n",
       "    }\n",
       "\n",
       "    .dataframe tbody tr th {\n",
       "        vertical-align: top;\n",
       "    }\n",
       "\n",
       "    .dataframe thead th {\n",
       "        text-align: right;\n",
       "    }\n",
       "</style>\n",
       "<table border=\"1\" class=\"dataframe\">\n",
       "  <thead>\n",
       "    <tr style=\"text-align: right;\">\n",
       "      <th></th>\n",
       "      <th>protein</th>\n",
       "      <th>set</th>\n",
       "      <th>prot2vec_0</th>\n",
       "      <th>prot2vec_1</th>\n",
       "      <th>prot2vec_2</th>\n",
       "      <th>prot2vec_3</th>\n",
       "      <th>prot2vec_4</th>\n",
       "      <th>prot2vec_5</th>\n",
       "      <th>prot2vec_6</th>\n",
       "      <th>prot2vec_7</th>\n",
       "      <th>...</th>\n",
       "      <th>GO:2001023</th>\n",
       "      <th>GO:2001057</th>\n",
       "      <th>GO:2001060</th>\n",
       "      <th>GO:2001061</th>\n",
       "      <th>GO:2001124</th>\n",
       "      <th>GO:2001125</th>\n",
       "      <th>GO:2001141</th>\n",
       "      <th>GO:2001251</th>\n",
       "      <th>GO:2001313</th>\n",
       "      <th>GO:2001315</th>\n",
       "    </tr>\n",
       "  </thead>\n",
       "  <tbody>\n",
       "    <tr>\n",
       "      <th>0</th>\n",
       "      <td>C1P607</td>\n",
       "      <td>train</td>\n",
       "      <td>4.822112e-10</td>\n",
       "      <td>2.327805e-05</td>\n",
       "      <td>3.053414e-01</td>\n",
       "      <td>4.172926e-03</td>\n",
       "      <td>1.265453e-05</td>\n",
       "      <td>2.597197e-06</td>\n",
       "      <td>1.881742e-04</td>\n",
       "      <td>5.898568e-06</td>\n",
       "      <td>...</td>\n",
       "      <td>0.0</td>\n",
       "      <td>0.0</td>\n",
       "      <td>0.0</td>\n",
       "      <td>0.0</td>\n",
       "      <td>0.0</td>\n",
       "      <td>0.0</td>\n",
       "      <td>0.0</td>\n",
       "      <td>0.0</td>\n",
       "      <td>0.0</td>\n",
       "      <td>0.0</td>\n",
       "    </tr>\n",
       "    <tr>\n",
       "      <th>1</th>\n",
       "      <td>C1P615</td>\n",
       "      <td>train</td>\n",
       "      <td>4.822112e-10</td>\n",
       "      <td>2.327805e-05</td>\n",
       "      <td>3.053414e-01</td>\n",
       "      <td>4.172926e-03</td>\n",
       "      <td>1.265453e-05</td>\n",
       "      <td>2.597197e-06</td>\n",
       "      <td>1.881742e-04</td>\n",
       "      <td>5.898568e-06</td>\n",
       "      <td>...</td>\n",
       "      <td>0.0</td>\n",
       "      <td>0.0</td>\n",
       "      <td>0.0</td>\n",
       "      <td>0.0</td>\n",
       "      <td>0.0</td>\n",
       "      <td>0.0</td>\n",
       "      <td>0.0</td>\n",
       "      <td>0.0</td>\n",
       "      <td>0.0</td>\n",
       "      <td>0.0</td>\n",
       "    </tr>\n",
       "    <tr>\n",
       "      <th>2</th>\n",
       "      <td>O32528</td>\n",
       "      <td>train</td>\n",
       "      <td>3.741143e-07</td>\n",
       "      <td>1.090778e-05</td>\n",
       "      <td>1.076940e-02</td>\n",
       "      <td>5.383392e-08</td>\n",
       "      <td>1.313031e-06</td>\n",
       "      <td>1.197079e-06</td>\n",
       "      <td>3.520212e-05</td>\n",
       "      <td>4.684681e-01</td>\n",
       "      <td>...</td>\n",
       "      <td>0.0</td>\n",
       "      <td>0.0</td>\n",
       "      <td>0.0</td>\n",
       "      <td>0.0</td>\n",
       "      <td>0.0</td>\n",
       "      <td>0.0</td>\n",
       "      <td>0.0</td>\n",
       "      <td>0.0</td>\n",
       "      <td>0.0</td>\n",
       "      <td>0.0</td>\n",
       "    </tr>\n",
       "    <tr>\n",
       "      <th>3</th>\n",
       "      <td>P00350</td>\n",
       "      <td>train</td>\n",
       "      <td>7.609263e-03</td>\n",
       "      <td>1.258004e-07</td>\n",
       "      <td>7.506846e-06</td>\n",
       "      <td>1.446274e-01</td>\n",
       "      <td>1.699214e-01</td>\n",
       "      <td>1.007646e-01</td>\n",
       "      <td>1.744034e-01</td>\n",
       "      <td>4.666566e-09</td>\n",
       "      <td>...</td>\n",
       "      <td>0.0</td>\n",
       "      <td>0.0</td>\n",
       "      <td>0.0</td>\n",
       "      <td>0.0</td>\n",
       "      <td>0.0</td>\n",
       "      <td>0.0</td>\n",
       "      <td>0.0</td>\n",
       "      <td>0.0</td>\n",
       "      <td>0.0</td>\n",
       "      <td>0.0</td>\n",
       "    </tr>\n",
       "    <tr>\n",
       "      <th>4</th>\n",
       "      <td>P00363</td>\n",
       "      <td>train</td>\n",
       "      <td>4.521328e-11</td>\n",
       "      <td>1.419386e-01</td>\n",
       "      <td>1.295210e-01</td>\n",
       "      <td>4.913647e-03</td>\n",
       "      <td>2.015503e-01</td>\n",
       "      <td>1.182718e-05</td>\n",
       "      <td>2.046343e-08</td>\n",
       "      <td>4.569843e-12</td>\n",
       "      <td>...</td>\n",
       "      <td>0.0</td>\n",
       "      <td>0.0</td>\n",
       "      <td>0.0</td>\n",
       "      <td>0.0</td>\n",
       "      <td>0.0</td>\n",
       "      <td>0.0</td>\n",
       "      <td>0.0</td>\n",
       "      <td>0.0</td>\n",
       "      <td>0.0</td>\n",
       "      <td>0.0</td>\n",
       "    </tr>\n",
       "    <tr>\n",
       "      <th>...</th>\n",
       "      <td>...</td>\n",
       "      <td>...</td>\n",
       "      <td>...</td>\n",
       "      <td>...</td>\n",
       "      <td>...</td>\n",
       "      <td>...</td>\n",
       "      <td>...</td>\n",
       "      <td>...</td>\n",
       "      <td>...</td>\n",
       "      <td>...</td>\n",
       "      <td>...</td>\n",
       "      <td>...</td>\n",
       "      <td>...</td>\n",
       "      <td>...</td>\n",
       "      <td>...</td>\n",
       "      <td>...</td>\n",
       "      <td>...</td>\n",
       "      <td>...</td>\n",
       "      <td>...</td>\n",
       "      <td>...</td>\n",
       "      <td>...</td>\n",
       "    </tr>\n",
       "    <tr>\n",
       "      <th>2247</th>\n",
       "      <td>Q47149</td>\n",
       "      <td>test</td>\n",
       "      <td>1.575696e-09</td>\n",
       "      <td>2.104914e-01</td>\n",
       "      <td>1.272206e-04</td>\n",
       "      <td>2.393070e-02</td>\n",
       "      <td>1.542201e-03</td>\n",
       "      <td>2.149793e-01</td>\n",
       "      <td>8.950282e-03</td>\n",
       "      <td>1.345122e-07</td>\n",
       "      <td>...</td>\n",
       "      <td>0.0</td>\n",
       "      <td>0.0</td>\n",
       "      <td>0.0</td>\n",
       "      <td>0.0</td>\n",
       "      <td>0.0</td>\n",
       "      <td>0.0</td>\n",
       "      <td>0.0</td>\n",
       "      <td>0.0</td>\n",
       "      <td>0.0</td>\n",
       "      <td>0.0</td>\n",
       "    </tr>\n",
       "    <tr>\n",
       "      <th>2248</th>\n",
       "      <td>Q47538</td>\n",
       "      <td>test</td>\n",
       "      <td>2.770949e-05</td>\n",
       "      <td>2.457063e-08</td>\n",
       "      <td>7.028402e-08</td>\n",
       "      <td>1.087332e-06</td>\n",
       "      <td>4.894130e-07</td>\n",
       "      <td>3.883532e-07</td>\n",
       "      <td>3.917785e-01</td>\n",
       "      <td>1.630807e-09</td>\n",
       "      <td>...</td>\n",
       "      <td>0.0</td>\n",
       "      <td>0.0</td>\n",
       "      <td>0.0</td>\n",
       "      <td>0.0</td>\n",
       "      <td>0.0</td>\n",
       "      <td>0.0</td>\n",
       "      <td>0.0</td>\n",
       "      <td>0.0</td>\n",
       "      <td>0.0</td>\n",
       "      <td>0.0</td>\n",
       "    </tr>\n",
       "    <tr>\n",
       "      <th>2249</th>\n",
       "      <td>Q47689</td>\n",
       "      <td>test</td>\n",
       "      <td>5.096305e-04</td>\n",
       "      <td>2.753295e-01</td>\n",
       "      <td>9.723391e-06</td>\n",
       "      <td>7.553197e-09</td>\n",
       "      <td>2.383339e-07</td>\n",
       "      <td>1.564173e-05</td>\n",
       "      <td>3.526196e-04</td>\n",
       "      <td>5.370395e-01</td>\n",
       "      <td>...</td>\n",
       "      <td>0.0</td>\n",
       "      <td>0.0</td>\n",
       "      <td>0.0</td>\n",
       "      <td>0.0</td>\n",
       "      <td>0.0</td>\n",
       "      <td>0.0</td>\n",
       "      <td>0.0</td>\n",
       "      <td>0.0</td>\n",
       "      <td>0.0</td>\n",
       "      <td>0.0</td>\n",
       "    </tr>\n",
       "    <tr>\n",
       "      <th>2250</th>\n",
       "      <td>Q57261</td>\n",
       "      <td>test</td>\n",
       "      <td>1.486540e-09</td>\n",
       "      <td>1.102134e-07</td>\n",
       "      <td>3.935691e-04</td>\n",
       "      <td>8.539056e-04</td>\n",
       "      <td>3.082948e-05</td>\n",
       "      <td>3.037853e-06</td>\n",
       "      <td>7.858851e-08</td>\n",
       "      <td>2.436093e-04</td>\n",
       "      <td>...</td>\n",
       "      <td>0.0</td>\n",
       "      <td>0.0</td>\n",
       "      <td>0.0</td>\n",
       "      <td>0.0</td>\n",
       "      <td>0.0</td>\n",
       "      <td>0.0</td>\n",
       "      <td>0.0</td>\n",
       "      <td>0.0</td>\n",
       "      <td>0.0</td>\n",
       "      <td>0.0</td>\n",
       "    </tr>\n",
       "    <tr>\n",
       "      <th>2251</th>\n",
       "      <td>Q6BF17</td>\n",
       "      <td>test</td>\n",
       "      <td>3.455611e-09</td>\n",
       "      <td>1.873459e-13</td>\n",
       "      <td>1.817348e-15</td>\n",
       "      <td>5.937113e-04</td>\n",
       "      <td>4.542236e-02</td>\n",
       "      <td>1.166509e-03</td>\n",
       "      <td>1.941116e-04</td>\n",
       "      <td>5.032591e-04</td>\n",
       "      <td>...</td>\n",
       "      <td>0.0</td>\n",
       "      <td>0.0</td>\n",
       "      <td>0.0</td>\n",
       "      <td>0.0</td>\n",
       "      <td>0.0</td>\n",
       "      <td>0.0</td>\n",
       "      <td>0.0</td>\n",
       "      <td>0.0</td>\n",
       "      <td>0.0</td>\n",
       "      <td>0.0</td>\n",
       "    </tr>\n",
       "  </tbody>\n",
       "</table>\n",
       "<p>2252 rows × 2767 columns</p>\n",
       "</div>"
      ],
      "text/plain": [
       "     protein    set    prot2vec_0    prot2vec_1    prot2vec_2    prot2vec_3  \\\n",
       "0     C1P607  train  4.822112e-10  2.327805e-05  3.053414e-01  4.172926e-03   \n",
       "1     C1P615  train  4.822112e-10  2.327805e-05  3.053414e-01  4.172926e-03   \n",
       "2     O32528  train  3.741143e-07  1.090778e-05  1.076940e-02  5.383392e-08   \n",
       "3     P00350  train  7.609263e-03  1.258004e-07  7.506846e-06  1.446274e-01   \n",
       "4     P00363  train  4.521328e-11  1.419386e-01  1.295210e-01  4.913647e-03   \n",
       "...      ...    ...           ...           ...           ...           ...   \n",
       "2247  Q47149   test  1.575696e-09  2.104914e-01  1.272206e-04  2.393070e-02   \n",
       "2248  Q47538   test  2.770949e-05  2.457063e-08  7.028402e-08  1.087332e-06   \n",
       "2249  Q47689   test  5.096305e-04  2.753295e-01  9.723391e-06  7.553197e-09   \n",
       "2250  Q57261   test  1.486540e-09  1.102134e-07  3.935691e-04  8.539056e-04   \n",
       "2251  Q6BF17   test  3.455611e-09  1.873459e-13  1.817348e-15  5.937113e-04   \n",
       "\n",
       "        prot2vec_4    prot2vec_5    prot2vec_6    prot2vec_7  ...  GO:2001023  \\\n",
       "0     1.265453e-05  2.597197e-06  1.881742e-04  5.898568e-06  ...         0.0   \n",
       "1     1.265453e-05  2.597197e-06  1.881742e-04  5.898568e-06  ...         0.0   \n",
       "2     1.313031e-06  1.197079e-06  3.520212e-05  4.684681e-01  ...         0.0   \n",
       "3     1.699214e-01  1.007646e-01  1.744034e-01  4.666566e-09  ...         0.0   \n",
       "4     2.015503e-01  1.182718e-05  2.046343e-08  4.569843e-12  ...         0.0   \n",
       "...            ...           ...           ...           ...  ...         ...   \n",
       "2247  1.542201e-03  2.149793e-01  8.950282e-03  1.345122e-07  ...         0.0   \n",
       "2248  4.894130e-07  3.883532e-07  3.917785e-01  1.630807e-09  ...         0.0   \n",
       "2249  2.383339e-07  1.564173e-05  3.526196e-04  5.370395e-01  ...         0.0   \n",
       "2250  3.082948e-05  3.037853e-06  7.858851e-08  2.436093e-04  ...         0.0   \n",
       "2251  4.542236e-02  1.166509e-03  1.941116e-04  5.032591e-04  ...         0.0   \n",
       "\n",
       "      GO:2001057  GO:2001060  GO:2001061  GO:2001124  GO:2001125  GO:2001141  \\\n",
       "0            0.0         0.0         0.0         0.0         0.0         0.0   \n",
       "1            0.0         0.0         0.0         0.0         0.0         0.0   \n",
       "2            0.0         0.0         0.0         0.0         0.0         0.0   \n",
       "3            0.0         0.0         0.0         0.0         0.0         0.0   \n",
       "4            0.0         0.0         0.0         0.0         0.0         0.0   \n",
       "...          ...         ...         ...         ...         ...         ...   \n",
       "2247         0.0         0.0         0.0         0.0         0.0         0.0   \n",
       "2248         0.0         0.0         0.0         0.0         0.0         0.0   \n",
       "2249         0.0         0.0         0.0         0.0         0.0         0.0   \n",
       "2250         0.0         0.0         0.0         0.0         0.0         0.0   \n",
       "2251         0.0         0.0         0.0         0.0         0.0         0.0   \n",
       "\n",
       "      GO:2001251  GO:2001313  GO:2001315  \n",
       "0            0.0         0.0         0.0  \n",
       "1            0.0         0.0         0.0  \n",
       "2            0.0         0.0         0.0  \n",
       "3            0.0         0.0         0.0  \n",
       "4            0.0         0.0         0.0  \n",
       "...          ...         ...         ...  \n",
       "2247         0.0         0.0         0.0  \n",
       "2248         0.0         0.0         0.0  \n",
       "2249         0.0         0.0         0.0  \n",
       "2250         0.0         0.0         0.0  \n",
       "2251         0.0         0.0         0.0  \n",
       "\n",
       "[2252 rows x 2767 columns]"
      ]
     },
     "execution_count": 40,
     "metadata": {},
     "output_type": "execute_result"
    }
   ],
   "source": [
    "dataset"
   ]
  },
  {
   "cell_type": "code",
   "execution_count": 41,
   "id": "a1fc67be-c57d-4965-8bec-37a9c13d744b",
   "metadata": {},
   "outputs": [],
   "source": [
    "distances = squareform(pdist(np.stack(dataset[features].values), metric='cosine'))"
   ]
  },
  {
   "cell_type": "code",
   "execution_count": 42,
   "id": "ae8d4ba7-dc36-4dda-9f7c-ed22fa00566f",
   "metadata": {},
   "outputs": [],
   "source": [
    "X_dists_train = distances[dataset['set'].isin(['train', 'validation']),:][:,dataset['set'].isin(['train', 'validation'])]"
   ]
  },
  {
   "cell_type": "code",
   "execution_count": 43,
   "id": "f55de704-d9e8-4eab-a7d9-0d42253190be",
   "metadata": {},
   "outputs": [],
   "source": [
    "X_dists_test = distances[dataset['set'].isin(['test']),:][:,dataset['set'].isin(['train', 'validation'])]"
   ]
  },
  {
   "cell_type": "code",
   "execution_count": 44,
   "id": "a4da53cc-b5bc-422f-8279-97154c1dd31f",
   "metadata": {},
   "outputs": [
    {
     "data": {
      "text/plain": [
       "((1803, 1803), (449, 1803))"
      ]
     },
     "execution_count": 44,
     "metadata": {},
     "output_type": "execute_result"
    }
   ],
   "source": [
    "X_dists_train.shape, X_dists_test.shape"
   ]
  },
  {
   "cell_type": "code",
   "execution_count": 45,
   "id": "0b40b250-ea85-4d51-9d35-3ef6283d53b9",
   "metadata": {},
   "outputs": [],
   "source": [
    "condition = dataset['set'].isin(['train', 'validation'])\n",
    "X_train = dataset[condition][features].values\n",
    "y_train = dataset[condition][classes].values.astype(int)\n",
    "X_test = dataset[~condition][features].values\n",
    "y_test = dataset[~condition][classes].values.astype(int)"
   ]
  },
  {
   "cell_type": "code",
   "execution_count": 46,
   "id": "6d6ad279-c485-4815-bd8c-17be5acf456d",
   "metadata": {},
   "outputs": [
    {
     "data": {
      "text/plain": [
       "((1803, 64), (449, 64), (1803, 2701), (449, 2701))"
      ]
     },
     "execution_count": 46,
     "metadata": {},
     "output_type": "execute_result"
    }
   ],
   "source": [
    "X_train.shape, X_test.shape, y_train.shape, y_test.shape"
   ]
  },
  {
   "cell_type": "code",
   "execution_count": 47,
   "id": "12ef68e2-652f-4c50-95c0-233ee958bdca",
   "metadata": {},
   "outputs": [],
   "source": [
    "from models import MultiLabelKNeighborsClassifier"
   ]
  },
  {
   "cell_type": "code",
   "execution_count": 48,
   "id": "598c65ba-57c5-4a00-98f9-0372b1540728",
   "metadata": {},
   "outputs": [],
   "source": [
    "m = MultiLabelKNeighborsClassifier(metric='precomputed')"
   ]
  },
  {
   "cell_type": "code",
   "execution_count": 49,
   "id": "50a90a59-b586-44b5-b0fe-d2f362341c0c",
   "metadata": {},
   "outputs": [
    {
     "data": {
      "text/plain": [
       "<models.knn.mlknn.MultiLabelKNeighborsClassifier at 0x24108cc8400>"
      ]
     },
     "execution_count": 49,
     "metadata": {},
     "output_type": "execute_result"
    }
   ],
   "source": [
    "m.fit(X_dists_train, y_train)"
   ]
  },
  {
   "cell_type": "code",
   "execution_count": 50,
   "id": "8fe06503-0733-4aca-8c07-d890e8e5ad42",
   "metadata": {},
   "outputs": [],
   "source": [
    "y_pred = m.predict(X_dists_test)\n",
    "y_proba = m.predict_proba(X_dists_test)"
   ]
  },
  {
   "cell_type": "code",
   "execution_count": 51,
   "id": "8c92c0c6-d0f8-43ad-a2dc-5f2ccc7190c0",
   "metadata": {},
   "outputs": [],
   "source": [
    "y_pred = y_pred.todense()\n",
    "y_pred = y_pred.A\n",
    "y_proba = y_proba.todense()\n",
    "y_proba = y_proba.A"
   ]
  },
  {
   "cell_type": "code",
   "execution_count": 52,
   "id": "66275579-6d35-4e84-a5ad-3be19eb5f0e9",
   "metadata": {},
   "outputs": [],
   "source": [
    "information_content = pd.read_table(os.path.join(data_dir, '83333', 'uppropagated-annotations.IC'))"
   ]
  },
  {
   "cell_type": "code",
   "execution_count": 53,
   "id": "241158bc-1a7f-453e-b85a-35e234fe3dea",
   "metadata": {},
   "outputs": [],
   "source": [
    "information_content.set_index('goterm', inplace=True)"
   ]
  },
  {
   "cell_type": "code",
   "execution_count": 54,
   "id": "fdb065e8-cc09-42ae-871a-197182b4bbe2",
   "metadata": {},
   "outputs": [],
   "source": [
    "ic_sorted = information_content.loc[classes].values.flatten()"
   ]
  },
  {
   "cell_type": "code",
   "execution_count": 55,
   "id": "b8842fd4-422d-43da-be75-e21ba134731d",
   "metadata": {},
   "outputs": [],
   "source": [
    "from evaluation.metrics import get_metrics"
   ]
  },
  {
   "cell_type": "code",
   "execution_count": 56,
   "id": "f909969b-eba6-4035-bfbf-858e0eb2c4a9",
   "metadata": {},
   "outputs": [
    {
     "data": {
      "application/vnd.jupyter.widget-view+json": {
       "model_id": "408200a9f5334551a7cf1a8f23f410a9",
       "version_major": 2,
       "version_minor": 0
      },
      "text/plain": [
       "Output()"
      ]
     },
     "metadata": {},
     "output_type": "display_data"
    },
    {
     "data": {
      "text/html": [
       "<pre style=\"white-space:pre;overflow-x:auto;line-height:normal;font-family:Menlo,'DejaVu Sans Mono',consolas,'Courier New',monospace\">\n",
       "</pre>\n"
      ],
      "text/plain": [
       "\n"
      ]
     },
     "metadata": {},
     "output_type": "display_data"
    },
    {
     "data": {
      "application/vnd.jupyter.widget-view+json": {
       "model_id": "47c1984b7c874242acd438d4d393f4e7",
       "version_major": 2,
       "version_minor": 0
      },
      "text/plain": [
       "Output()"
      ]
     },
     "metadata": {},
     "output_type": "display_data"
    },
    {
     "data": {
      "text/html": [
       "<pre style=\"white-space:pre;overflow-x:auto;line-height:normal;font-family:Menlo,'DejaVu Sans Mono',consolas,'Courier New',monospace\">\n",
       "</pre>\n"
      ],
      "text/plain": [
       "\n"
      ]
     },
     "metadata": {},
     "output_type": "display_data"
    }
   ],
   "source": [
    "metrics = get_metrics(y_test, y_proba, ic_sorted)"
   ]
  },
  {
   "cell_type": "code",
   "execution_count": 57,
   "id": "bc1abaa4-dd3c-49c0-86fa-bc3e2f492379",
   "metadata": {},
   "outputs": [],
   "source": [
    "eval_metrics = ['f_max', 's_min', 'auc_roc', 'auc_pr']\n",
    "evaluation = metrics[eval_metrics + ['metric_type']]\n",
    "ev = evaluation.groupby('metric_type').mean()"
   ]
  },
  {
   "cell_type": "code",
   "execution_count": 58,
   "id": "618a11a1-8345-4520-8c74-0b4d6f12042b",
   "metadata": {},
   "outputs": [],
   "source": [
    "ev['model'] = model_name"
   ]
  },
  {
   "cell_type": "code",
   "execution_count": 59,
   "id": "1becef49-141a-4354-970a-2451aee382f3",
   "metadata": {},
   "outputs": [],
   "source": [
    "evaluations = []"
   ]
  },
  {
   "cell_type": "code",
   "execution_count": 60,
   "id": "97343bb8-8135-4292-b29a-e4bfe3110bff",
   "metadata": {},
   "outputs": [],
   "source": [
    "evaluations.append(ev)\n",
    "df = pd.concat(evaluations)"
   ]
  },
  {
   "cell_type": "code",
   "execution_count": 61,
   "id": "f2b8423b-4541-4b5a-8755-c64c65412632",
   "metadata": {},
   "outputs": [
    {
     "data": {
      "text/html": [
       "<div>\n",
       "<style scoped>\n",
       "    .dataframe tbody tr th:only-of-type {\n",
       "        vertical-align: middle;\n",
       "    }\n",
       "\n",
       "    .dataframe tbody tr th {\n",
       "        vertical-align: top;\n",
       "    }\n",
       "\n",
       "    .dataframe thead th {\n",
       "        text-align: right;\n",
       "    }\n",
       "</style>\n",
       "<table border=\"1\" class=\"dataframe\">\n",
       "  <thead>\n",
       "    <tr style=\"text-align: right;\">\n",
       "      <th></th>\n",
       "      <th>f_max</th>\n",
       "      <th>s_min</th>\n",
       "      <th>auc_roc</th>\n",
       "      <th>auc_pr</th>\n",
       "      <th>model</th>\n",
       "    </tr>\n",
       "    <tr>\n",
       "      <th>metric_type</th>\n",
       "      <th></th>\n",
       "      <th></th>\n",
       "      <th></th>\n",
       "      <th></th>\n",
       "      <th></th>\n",
       "    </tr>\n",
       "  </thead>\n",
       "  <tbody>\n",
       "    <tr>\n",
       "      <th>per_gene</th>\n",
       "      <td>0.39220</td>\n",
       "      <td>0.075591</td>\n",
       "      <td>0.895030</td>\n",
       "      <td>0.258772</td>\n",
       "      <td>SiameseSimilarityNet-sigmoid-256</td>\n",
       "    </tr>\n",
       "    <tr>\n",
       "      <th>per_term</th>\n",
       "      <td>0.02311</td>\n",
       "      <td>13.413958</td>\n",
       "      <td>0.318273</td>\n",
       "      <td>0.005677</td>\n",
       "      <td>SiameseSimilarityNet-sigmoid-256</td>\n",
       "    </tr>\n",
       "  </tbody>\n",
       "</table>\n",
       "</div>"
      ],
      "text/plain": [
       "               f_max      s_min   auc_roc    auc_pr  \\\n",
       "metric_type                                           \n",
       "per_gene     0.39220   0.075591  0.895030  0.258772   \n",
       "per_term     0.02311  13.413958  0.318273  0.005677   \n",
       "\n",
       "                                        model  \n",
       "metric_type                                    \n",
       "per_gene     SiameseSimilarityNet-sigmoid-256  \n",
       "per_term     SiameseSimilarityNet-sigmoid-256  "
      ]
     },
     "execution_count": 61,
     "metadata": {},
     "output_type": "execute_result"
    }
   ],
   "source": [
    "df"
   ]
  },
  {
   "cell_type": "code",
   "execution_count": null,
   "id": "3322fe5e-f1ff-4ba4-a46a-aa9702c77a13",
   "metadata": {},
   "outputs": [],
   "source": []
  }
 ],
 "metadata": {
  "kernelspec": {
   "display_name": "Python 3 (ipykernel)",
   "language": "python",
   "name": "python3"
  },
  "language_info": {
   "codemirror_mode": {
    "name": "ipython",
    "version": 3
   },
   "file_extension": ".py",
   "mimetype": "text/x-python",
   "name": "python",
   "nbconvert_exporter": "python",
   "pygments_lexer": "ipython3",
   "version": "3.9.1"
  }
 },
 "nbformat": 4,
 "nbformat_minor": 5
}
