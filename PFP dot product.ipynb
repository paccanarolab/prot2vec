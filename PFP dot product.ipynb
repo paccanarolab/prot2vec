{
 "cells": [
  {
   "cell_type": "code",
   "execution_count": 22,
   "id": "9896bb3b-fb4e-4de3-850b-20806b6ad741",
   "metadata": {},
   "outputs": [],
   "source": [
    "import numpy as np\n",
    "import pandas as pd\n",
    "import matplotlib.pyplot as plt\n",
    "import seaborn as sns\n",
    "import os\n",
    "from scipy.spatial.distance import pdist, squareform\n",
    "from Utils import Configuration\n",
    "from models import SiameseSimilarityMultiTask\n",
    "from tools.datasets import FastMultitaskSemanticSimilarityDataset"
   ]
  },
  {
   "cell_type": "code",
   "execution_count": 217,
   "id": "7bfba88c-d7b7-4df6-9559-d2a72d57d150",
   "metadata": {},
   "outputs": [],
   "source": [
    "data_dir = \"/Users/torresmateo/OneDrive - FGV/prot2vec\"\n",
    "if os.name == 'nt':\n",
    "    data_dir = \"D:/OneDrive - FGV/prot2vec\"\n",
    "    "
   ]
  },
  {
   "cell_type": "code",
   "execution_count": 218,
   "id": "65fbb5fc-715f-4e69-8fb6-c9ed58b650d2",
   "metadata": {},
   "outputs": [],
   "source": [
    "config = Configuration.load_run(\"run-test.ini\")"
   ]
  },
  {
   "cell_type": "code",
   "execution_count": 219,
   "id": "96a38351-0396-426c-bee4-9c40f47ddbe8",
   "metadata": {},
   "outputs": [
    {
     "data": {
      "text/plain": [
       "{'configuration': {'config_file': 'config.ini'},\n",
       " 'model': {'dir_model_output': 'D:/OneDrive - FGV/prot2vec',\n",
       "  'batch_size_train': 256,\n",
       "  'batch_size_val': 256,\n",
       "  'batch_size_test': 256,\n",
       "  'dim_first_hidden_layer': 1024,\n",
       "  'alias': 'test.pt'},\n",
       " 'training': {'dir_training_out': 'D:/OneDrive - FGV/prot2vec',\n",
       "  'num_epochs': 10},\n",
       " 'dataset': {'dir_train': '../83333/train_data_not_homologous/',\n",
       "  'dir_val': '../83333/val_data_not_homologous/',\n",
       "  'dir_test': '../83333/test_data_not_homologous/',\n",
       "  'string_columns': ['neighborhood',\n",
       "   'fusion',\n",
       "   'cooccurence',\n",
       "   'coexpression',\n",
       "   'experiments',\n",
       "   'database',\n",
       "   'textmining'],\n",
       "  'negative_sampling': False,\n",
       "  'combine_string': True,\n",
       "  'include_homology': True,\n",
       "  'include_biogrid': True},\n",
       " 'representations': {'dir_representations_out': 'D:/OneDrive - FGV/prot2vec'},\n",
       " 'optimizer': {'learning_rate': 0.0006},\n",
       " 'loss': {'main_task_factor': 1.0}}"
      ]
     },
     "execution_count": 219,
     "metadata": {},
     "output_type": "execute_result"
    }
   ],
   "source": [
    "config"
   ]
  },
  {
   "cell_type": "code",
   "execution_count": 220,
   "id": "a3045c39-edb3-48ca-ab20-799ba2ef5ba6",
   "metadata": {},
   "outputs": [
    {
     "data": {
      "text/plain": [
       "256"
      ]
     },
     "execution_count": 220,
     "metadata": {},
     "output_type": "execute_result"
    }
   ],
   "source": [
    "config[\"model\"][\"dim_first_hidden_layer\"] // 4"
   ]
  },
  {
   "cell_type": "code",
   "execution_count": 221,
   "id": "89f933da-c312-44e1-98fb-79de028126cb",
   "metadata": {},
   "outputs": [],
   "source": [
    "dim = config[\"model\"][\"dim_first_hidden_layer\"]\n",
    "activation = 'sigmoid'\n",
    "model_filename =  f\"{config['model']['alias']}-representations.pkl\"\n",
    "model_name = f\"{config['model']['alias']}-{dim}\"\n",
    "vecs = pd.read_pickle(os.path.join(data_dir, model_filename))\n",
    "features = [f'prot2vec_{i}' for i in range(dim//2//2)]\n",
    "vecs = pd.concat([vecs, pd.DataFrame(vecs['vector'].to_list(), index=vecs.index, columns = features)], axis=1)\n",
    "vecs = vecs[['protein', 'set'] + features]"
   ]
  },
  {
   "cell_type": "code",
   "execution_count": 222,
   "id": "60f75f3a-9269-4fcd-8b4f-43179fd19f6f",
   "metadata": {},
   "outputs": [],
   "source": [
    "annotations = pd.read_table(os.path.join(data_dir, '83333', 'uppropagated-annotations.BP'))\n",
    "annotations.columns = ['protein', 'goterm']\n",
    "annotations = annotations.merge(vecs[['protein', 'set']])"
   ]
  },
  {
   "cell_type": "code",
   "execution_count": 223,
   "id": "23a7dab4-9529-4f98-b5d6-74c4e89db7ca",
   "metadata": {},
   "outputs": [
    {
     "data": {
      "text/plain": [
       "(2132,)"
      ]
     },
     "execution_count": 223,
     "metadata": {},
     "output_type": "execute_result"
    }
   ],
   "source": [
    "annotations.protein.unique().shape"
   ]
  },
  {
   "cell_type": "code",
   "execution_count": 224,
   "id": "3ae89bd2-6d2c-414d-b245-603553604e9f",
   "metadata": {},
   "outputs": [],
   "source": [
    "condition = annotations['set'].isin(['train', 'validation'])\n",
    "y = annotations[['protein', 'goterm']]\n",
    "y['value'] = 1\n",
    "y = y.pivot('protein', 'goterm', 'value').fillna(0).reset_index()"
   ]
  },
  {
   "cell_type": "code",
   "execution_count": 225,
   "id": "8e03c4fb-8e2c-40b2-bd59-e234dd92f2b1",
   "metadata": {},
   "outputs": [],
   "source": [
    "classes = y.columns[~y.columns.isin(['protein'])].to_numpy()"
   ]
  },
  {
   "cell_type": "code",
   "execution_count": 226,
   "id": "c1cddf15-e1d7-4c39-ad65-c43fe5a4cb7b",
   "metadata": {},
   "outputs": [],
   "source": [
    "dataset = vecs.merge(y)"
   ]
  },
  {
   "cell_type": "code",
   "execution_count": 227,
   "id": "b3cecd1c-52fd-42eb-a3a9-70870ba7753d",
   "metadata": {},
   "outputs": [
    {
     "data": {
      "text/html": [
       "<div>\n",
       "<style scoped>\n",
       "    .dataframe tbody tr th:only-of-type {\n",
       "        vertical-align: middle;\n",
       "    }\n",
       "\n",
       "    .dataframe tbody tr th {\n",
       "        vertical-align: top;\n",
       "    }\n",
       "\n",
       "    .dataframe thead th {\n",
       "        text-align: right;\n",
       "    }\n",
       "</style>\n",
       "<table border=\"1\" class=\"dataframe\">\n",
       "  <thead>\n",
       "    <tr style=\"text-align: right;\">\n",
       "      <th></th>\n",
       "      <th>protein</th>\n",
       "      <th>set</th>\n",
       "      <th>prot2vec_0</th>\n",
       "      <th>prot2vec_1</th>\n",
       "      <th>prot2vec_2</th>\n",
       "      <th>prot2vec_3</th>\n",
       "      <th>prot2vec_4</th>\n",
       "      <th>prot2vec_5</th>\n",
       "      <th>prot2vec_6</th>\n",
       "      <th>prot2vec_7</th>\n",
       "      <th>...</th>\n",
       "      <th>GO:2001023</th>\n",
       "      <th>GO:2001057</th>\n",
       "      <th>GO:2001060</th>\n",
       "      <th>GO:2001061</th>\n",
       "      <th>GO:2001124</th>\n",
       "      <th>GO:2001125</th>\n",
       "      <th>GO:2001141</th>\n",
       "      <th>GO:2001251</th>\n",
       "      <th>GO:2001313</th>\n",
       "      <th>GO:2001315</th>\n",
       "    </tr>\n",
       "  </thead>\n",
       "  <tbody>\n",
       "    <tr>\n",
       "      <th>0</th>\n",
       "      <td>C1P607</td>\n",
       "      <td>train</td>\n",
       "      <td>0.090086</td>\n",
       "      <td>3.000233e-05</td>\n",
       "      <td>3.441443e-05</td>\n",
       "      <td>3.492409e-05</td>\n",
       "      <td>1.924738e-05</td>\n",
       "      <td>3.961688e-05</td>\n",
       "      <td>3.774117e-09</td>\n",
       "      <td>2.003084e-05</td>\n",
       "      <td>...</td>\n",
       "      <td>0.0</td>\n",
       "      <td>0.0</td>\n",
       "      <td>0.0</td>\n",
       "      <td>0.0</td>\n",
       "      <td>0.0</td>\n",
       "      <td>0.0</td>\n",
       "      <td>0.0</td>\n",
       "      <td>0.0</td>\n",
       "      <td>0.0</td>\n",
       "      <td>0.0</td>\n",
       "    </tr>\n",
       "    <tr>\n",
       "      <th>1</th>\n",
       "      <td>C1P617</td>\n",
       "      <td>train</td>\n",
       "      <td>0.090086</td>\n",
       "      <td>3.000233e-05</td>\n",
       "      <td>3.441443e-05</td>\n",
       "      <td>3.492409e-05</td>\n",
       "      <td>1.924738e-05</td>\n",
       "      <td>3.961688e-05</td>\n",
       "      <td>3.774117e-09</td>\n",
       "      <td>2.003084e-05</td>\n",
       "      <td>...</td>\n",
       "      <td>0.0</td>\n",
       "      <td>0.0</td>\n",
       "      <td>0.0</td>\n",
       "      <td>0.0</td>\n",
       "      <td>0.0</td>\n",
       "      <td>0.0</td>\n",
       "      <td>0.0</td>\n",
       "      <td>0.0</td>\n",
       "      <td>0.0</td>\n",
       "      <td>0.0</td>\n",
       "    </tr>\n",
       "    <tr>\n",
       "      <th>2</th>\n",
       "      <td>P00350</td>\n",
       "      <td>train</td>\n",
       "      <td>0.122507</td>\n",
       "      <td>1.724854e-06</td>\n",
       "      <td>6.778773e-07</td>\n",
       "      <td>3.197486e-06</td>\n",
       "      <td>1.457238e-06</td>\n",
       "      <td>1.713173e-06</td>\n",
       "      <td>3.717905e-11</td>\n",
       "      <td>1.922022e-06</td>\n",
       "      <td>...</td>\n",
       "      <td>0.0</td>\n",
       "      <td>0.0</td>\n",
       "      <td>0.0</td>\n",
       "      <td>0.0</td>\n",
       "      <td>0.0</td>\n",
       "      <td>0.0</td>\n",
       "      <td>0.0</td>\n",
       "      <td>0.0</td>\n",
       "      <td>0.0</td>\n",
       "      <td>0.0</td>\n",
       "    </tr>\n",
       "    <tr>\n",
       "      <th>3</th>\n",
       "      <td>P00393</td>\n",
       "      <td>train</td>\n",
       "      <td>0.087682</td>\n",
       "      <td>5.043263e-07</td>\n",
       "      <td>2.727672e-07</td>\n",
       "      <td>1.199419e-06</td>\n",
       "      <td>5.747757e-07</td>\n",
       "      <td>6.452598e-07</td>\n",
       "      <td>1.432480e-11</td>\n",
       "      <td>8.161376e-07</td>\n",
       "      <td>...</td>\n",
       "      <td>0.0</td>\n",
       "      <td>0.0</td>\n",
       "      <td>0.0</td>\n",
       "      <td>0.0</td>\n",
       "      <td>0.0</td>\n",
       "      <td>0.0</td>\n",
       "      <td>0.0</td>\n",
       "      <td>0.0</td>\n",
       "      <td>0.0</td>\n",
       "      <td>0.0</td>\n",
       "    </tr>\n",
       "    <tr>\n",
       "      <th>4</th>\n",
       "      <td>P00448</td>\n",
       "      <td>train</td>\n",
       "      <td>0.115818</td>\n",
       "      <td>4.406590e-06</td>\n",
       "      <td>2.127144e-06</td>\n",
       "      <td>8.379537e-06</td>\n",
       "      <td>4.068766e-06</td>\n",
       "      <td>5.462230e-06</td>\n",
       "      <td>1.529636e-10</td>\n",
       "      <td>5.335748e-06</td>\n",
       "      <td>...</td>\n",
       "      <td>0.0</td>\n",
       "      <td>0.0</td>\n",
       "      <td>0.0</td>\n",
       "      <td>0.0</td>\n",
       "      <td>0.0</td>\n",
       "      <td>0.0</td>\n",
       "      <td>0.0</td>\n",
       "      <td>0.0</td>\n",
       "      <td>0.0</td>\n",
       "      <td>0.0</td>\n",
       "    </tr>\n",
       "    <tr>\n",
       "      <th>...</th>\n",
       "      <td>...</td>\n",
       "      <td>...</td>\n",
       "      <td>...</td>\n",
       "      <td>...</td>\n",
       "      <td>...</td>\n",
       "      <td>...</td>\n",
       "      <td>...</td>\n",
       "      <td>...</td>\n",
       "      <td>...</td>\n",
       "      <td>...</td>\n",
       "      <td>...</td>\n",
       "      <td>...</td>\n",
       "      <td>...</td>\n",
       "      <td>...</td>\n",
       "      <td>...</td>\n",
       "      <td>...</td>\n",
       "      <td>...</td>\n",
       "      <td>...</td>\n",
       "      <td>...</td>\n",
       "      <td>...</td>\n",
       "      <td>...</td>\n",
       "    </tr>\n",
       "    <tr>\n",
       "      <th>2127</th>\n",
       "      <td>Q47005</td>\n",
       "      <td>test</td>\n",
       "      <td>0.074553</td>\n",
       "      <td>2.893069e-08</td>\n",
       "      <td>1.236352e-08</td>\n",
       "      <td>5.854638e-08</td>\n",
       "      <td>3.216464e-08</td>\n",
       "      <td>3.661936e-08</td>\n",
       "      <td>1.111016e-12</td>\n",
       "      <td>7.202371e-08</td>\n",
       "      <td>...</td>\n",
       "      <td>0.0</td>\n",
       "      <td>0.0</td>\n",
       "      <td>0.0</td>\n",
       "      <td>0.0</td>\n",
       "      <td>0.0</td>\n",
       "      <td>0.0</td>\n",
       "      <td>1.0</td>\n",
       "      <td>0.0</td>\n",
       "      <td>0.0</td>\n",
       "      <td>0.0</td>\n",
       "    </tr>\n",
       "    <tr>\n",
       "      <th>2128</th>\n",
       "      <td>Q47129</td>\n",
       "      <td>test</td>\n",
       "      <td>0.047646</td>\n",
       "      <td>1.558651e-04</td>\n",
       "      <td>1.572403e-04</td>\n",
       "      <td>2.094675e-04</td>\n",
       "      <td>1.414709e-04</td>\n",
       "      <td>1.822573e-04</td>\n",
       "      <td>3.199842e-07</td>\n",
       "      <td>1.772449e-04</td>\n",
       "      <td>...</td>\n",
       "      <td>0.0</td>\n",
       "      <td>0.0</td>\n",
       "      <td>0.0</td>\n",
       "      <td>0.0</td>\n",
       "      <td>0.0</td>\n",
       "      <td>0.0</td>\n",
       "      <td>1.0</td>\n",
       "      <td>0.0</td>\n",
       "      <td>0.0</td>\n",
       "      <td>0.0</td>\n",
       "    </tr>\n",
       "    <tr>\n",
       "      <th>2129</th>\n",
       "      <td>Q47155</td>\n",
       "      <td>test</td>\n",
       "      <td>0.113177</td>\n",
       "      <td>2.409832e-06</td>\n",
       "      <td>9.772025e-07</td>\n",
       "      <td>4.481728e-06</td>\n",
       "      <td>2.003780e-06</td>\n",
       "      <td>2.615029e-06</td>\n",
       "      <td>6.459221e-11</td>\n",
       "      <td>2.707995e-06</td>\n",
       "      <td>...</td>\n",
       "      <td>0.0</td>\n",
       "      <td>0.0</td>\n",
       "      <td>0.0</td>\n",
       "      <td>0.0</td>\n",
       "      <td>0.0</td>\n",
       "      <td>0.0</td>\n",
       "      <td>0.0</td>\n",
       "      <td>0.0</td>\n",
       "      <td>0.0</td>\n",
       "      <td>0.0</td>\n",
       "    </tr>\n",
       "    <tr>\n",
       "      <th>2130</th>\n",
       "      <td>Q47536</td>\n",
       "      <td>test</td>\n",
       "      <td>0.111407</td>\n",
       "      <td>1.238367e-06</td>\n",
       "      <td>5.351811e-07</td>\n",
       "      <td>2.455909e-06</td>\n",
       "      <td>1.156735e-06</td>\n",
       "      <td>1.262553e-06</td>\n",
       "      <td>3.047067e-11</td>\n",
       "      <td>1.461140e-06</td>\n",
       "      <td>...</td>\n",
       "      <td>0.0</td>\n",
       "      <td>0.0</td>\n",
       "      <td>0.0</td>\n",
       "      <td>0.0</td>\n",
       "      <td>0.0</td>\n",
       "      <td>0.0</td>\n",
       "      <td>0.0</td>\n",
       "      <td>0.0</td>\n",
       "      <td>0.0</td>\n",
       "      <td>0.0</td>\n",
       "    </tr>\n",
       "    <tr>\n",
       "      <th>2131</th>\n",
       "      <td>Q47537</td>\n",
       "      <td>test</td>\n",
       "      <td>0.124331</td>\n",
       "      <td>3.090513e-05</td>\n",
       "      <td>5.117919e-05</td>\n",
       "      <td>3.312078e-05</td>\n",
       "      <td>1.837456e-05</td>\n",
       "      <td>4.950661e-05</td>\n",
       "      <td>1.146115e-08</td>\n",
       "      <td>1.902947e-05</td>\n",
       "      <td>...</td>\n",
       "      <td>0.0</td>\n",
       "      <td>0.0</td>\n",
       "      <td>0.0</td>\n",
       "      <td>0.0</td>\n",
       "      <td>0.0</td>\n",
       "      <td>0.0</td>\n",
       "      <td>0.0</td>\n",
       "      <td>0.0</td>\n",
       "      <td>0.0</td>\n",
       "      <td>0.0</td>\n",
       "    </tr>\n",
       "  </tbody>\n",
       "</table>\n",
       "<p>2132 rows × 2926 columns</p>\n",
       "</div>"
      ],
      "text/plain": [
       "     protein    set  prot2vec_0    prot2vec_1    prot2vec_2    prot2vec_3  \\\n",
       "0     C1P607  train    0.090086  3.000233e-05  3.441443e-05  3.492409e-05   \n",
       "1     C1P617  train    0.090086  3.000233e-05  3.441443e-05  3.492409e-05   \n",
       "2     P00350  train    0.122507  1.724854e-06  6.778773e-07  3.197486e-06   \n",
       "3     P00393  train    0.087682  5.043263e-07  2.727672e-07  1.199419e-06   \n",
       "4     P00448  train    0.115818  4.406590e-06  2.127144e-06  8.379537e-06   \n",
       "...      ...    ...         ...           ...           ...           ...   \n",
       "2127  Q47005   test    0.074553  2.893069e-08  1.236352e-08  5.854638e-08   \n",
       "2128  Q47129   test    0.047646  1.558651e-04  1.572403e-04  2.094675e-04   \n",
       "2129  Q47155   test    0.113177  2.409832e-06  9.772025e-07  4.481728e-06   \n",
       "2130  Q47536   test    0.111407  1.238367e-06  5.351811e-07  2.455909e-06   \n",
       "2131  Q47537   test    0.124331  3.090513e-05  5.117919e-05  3.312078e-05   \n",
       "\n",
       "        prot2vec_4    prot2vec_5    prot2vec_6    prot2vec_7  ...  GO:2001023  \\\n",
       "0     1.924738e-05  3.961688e-05  3.774117e-09  2.003084e-05  ...         0.0   \n",
       "1     1.924738e-05  3.961688e-05  3.774117e-09  2.003084e-05  ...         0.0   \n",
       "2     1.457238e-06  1.713173e-06  3.717905e-11  1.922022e-06  ...         0.0   \n",
       "3     5.747757e-07  6.452598e-07  1.432480e-11  8.161376e-07  ...         0.0   \n",
       "4     4.068766e-06  5.462230e-06  1.529636e-10  5.335748e-06  ...         0.0   \n",
       "...            ...           ...           ...           ...  ...         ...   \n",
       "2127  3.216464e-08  3.661936e-08  1.111016e-12  7.202371e-08  ...         0.0   \n",
       "2128  1.414709e-04  1.822573e-04  3.199842e-07  1.772449e-04  ...         0.0   \n",
       "2129  2.003780e-06  2.615029e-06  6.459221e-11  2.707995e-06  ...         0.0   \n",
       "2130  1.156735e-06  1.262553e-06  3.047067e-11  1.461140e-06  ...         0.0   \n",
       "2131  1.837456e-05  4.950661e-05  1.146115e-08  1.902947e-05  ...         0.0   \n",
       "\n",
       "      GO:2001057  GO:2001060  GO:2001061  GO:2001124  GO:2001125  GO:2001141  \\\n",
       "0            0.0         0.0         0.0         0.0         0.0         0.0   \n",
       "1            0.0         0.0         0.0         0.0         0.0         0.0   \n",
       "2            0.0         0.0         0.0         0.0         0.0         0.0   \n",
       "3            0.0         0.0         0.0         0.0         0.0         0.0   \n",
       "4            0.0         0.0         0.0         0.0         0.0         0.0   \n",
       "...          ...         ...         ...         ...         ...         ...   \n",
       "2127         0.0         0.0         0.0         0.0         0.0         1.0   \n",
       "2128         0.0         0.0         0.0         0.0         0.0         1.0   \n",
       "2129         0.0         0.0         0.0         0.0         0.0         0.0   \n",
       "2130         0.0         0.0         0.0         0.0         0.0         0.0   \n",
       "2131         0.0         0.0         0.0         0.0         0.0         0.0   \n",
       "\n",
       "      GO:2001251  GO:2001313  GO:2001315  \n",
       "0            0.0         0.0         0.0  \n",
       "1            0.0         0.0         0.0  \n",
       "2            0.0         0.0         0.0  \n",
       "3            0.0         0.0         0.0  \n",
       "4            0.0         0.0         0.0  \n",
       "...          ...         ...         ...  \n",
       "2127         0.0         0.0         0.0  \n",
       "2128         0.0         0.0         0.0  \n",
       "2129         0.0         0.0         0.0  \n",
       "2130         0.0         0.0         0.0  \n",
       "2131         0.0         0.0         0.0  \n",
       "\n",
       "[2132 rows x 2926 columns]"
      ]
     },
     "execution_count": 227,
     "metadata": {},
     "output_type": "execute_result"
    }
   ],
   "source": [
    "dataset"
   ]
  },
  {
   "cell_type": "code",
   "execution_count": 228,
   "id": "a1fc67be-c57d-4965-8bec-37a9c13d744b",
   "metadata": {},
   "outputs": [],
   "source": [
    "distances = squareform(pdist(np.stack(dataset[features].values), metric='cosine'))"
   ]
  },
  {
   "cell_type": "code",
   "execution_count": 229,
   "id": "ae8d4ba7-dc36-4dda-9f7c-ed22fa00566f",
   "metadata": {},
   "outputs": [],
   "source": [
    "X_dists_train = distances[dataset['set'].isin(['train', 'validation']),:][:,dataset['set'].isin(['train', 'validation'])]"
   ]
  },
  {
   "cell_type": "code",
   "execution_count": 230,
   "id": "f55de704-d9e8-4eab-a7d9-0d42253190be",
   "metadata": {},
   "outputs": [],
   "source": [
    "X_dists_test = distances[dataset['set'].isin(['test']),:][:,dataset['set'].isin(['train', 'validation'])]"
   ]
  },
  {
   "cell_type": "code",
   "execution_count": 231,
   "id": "a4da53cc-b5bc-422f-8279-97154c1dd31f",
   "metadata": {},
   "outputs": [
    {
     "data": {
      "text/plain": [
       "((1704, 1704), (428, 1704))"
      ]
     },
     "execution_count": 231,
     "metadata": {},
     "output_type": "execute_result"
    }
   ],
   "source": [
    "X_dists_train.shape, X_dists_test.shape"
   ]
  },
  {
   "cell_type": "code",
   "execution_count": 232,
   "id": "0b40b250-ea85-4d51-9d35-3ef6283d53b9",
   "metadata": {},
   "outputs": [],
   "source": [
    "condition = dataset['set'].isin(['train', 'validation'])\n",
    "X_train = dataset[condition][features].values\n",
    "y_train = dataset[condition][classes].values.astype(int)\n",
    "X_test = dataset[~condition][features].values\n",
    "y_test = dataset[~condition][classes].values.astype(int)"
   ]
  },
  {
   "cell_type": "code",
   "execution_count": 233,
   "id": "6d6ad279-c485-4815-bd8c-17be5acf456d",
   "metadata": {},
   "outputs": [
    {
     "data": {
      "text/plain": [
       "((1704, 256), (428, 256), (1704, 2668), (428, 2668))"
      ]
     },
     "execution_count": 233,
     "metadata": {},
     "output_type": "execute_result"
    }
   ],
   "source": [
    "X_train.shape, X_test.shape, y_train.shape, y_test.shape"
   ]
  },
  {
   "cell_type": "code",
   "execution_count": 234,
   "id": "12ef68e2-652f-4c50-95c0-233ee958bdca",
   "metadata": {},
   "outputs": [],
   "source": [
    "from models import MultiLabelKNeighborsClassifier\n",
    "from evaluation.metrics import get_metrics"
   ]
  },
  {
   "cell_type": "code",
   "execution_count": 235,
   "id": "50a90a59-b586-44b5-b0fe-d2f362341c0c",
   "metadata": {},
   "outputs": [
    {
     "data": {
      "application/vnd.jupyter.widget-view+json": {
       "model_id": "a6ec99b45c204ea38258f7813f01a584",
       "version_major": 2,
       "version_minor": 0
      },
      "text/plain": [
       "Output()"
      ]
     },
     "metadata": {},
     "output_type": "display_data"
    },
    {
     "data": {
      "text/html": [
       "<pre style=\"white-space:pre;overflow-x:auto;line-height:normal;font-family:Menlo,'DejaVu Sans Mono',consolas,'Courier New',monospace\">\n",
       "</pre>\n"
      ],
      "text/plain": [
       "\n"
      ]
     },
     "metadata": {},
     "output_type": "display_data"
    },
    {
     "data": {
      "application/vnd.jupyter.widget-view+json": {
       "model_id": "727b3c46c3ca4775ad02c9e5695ae4d6",
       "version_major": 2,
       "version_minor": 0
      },
      "text/plain": [
       "Output()"
      ]
     },
     "metadata": {},
     "output_type": "display_data"
    },
    {
     "data": {
      "text/html": [
       "<pre style=\"white-space:pre;overflow-x:auto;line-height:normal;font-family:Menlo,'DejaVu Sans Mono',consolas,'Courier New',monospace\">\n",
       "</pre>\n"
      ],
      "text/plain": [
       "\n"
      ]
     },
     "metadata": {},
     "output_type": "display_data"
    },
    {
     "data": {
      "text/html": [
       "<div>\n",
       "<style scoped>\n",
       "    .dataframe tbody tr th:only-of-type {\n",
       "        vertical-align: middle;\n",
       "    }\n",
       "\n",
       "    .dataframe tbody tr th {\n",
       "        vertical-align: top;\n",
       "    }\n",
       "\n",
       "    .dataframe thead th {\n",
       "        text-align: right;\n",
       "    }\n",
       "</style>\n",
       "<table border=\"1\" class=\"dataframe\">\n",
       "  <thead>\n",
       "    <tr style=\"text-align: right;\">\n",
       "      <th></th>\n",
       "      <th>f_max</th>\n",
       "      <th>s_min</th>\n",
       "      <th>auc_roc</th>\n",
       "      <th>auc_pr</th>\n",
       "      <th>model</th>\n",
       "    </tr>\n",
       "    <tr>\n",
       "      <th>metric_type</th>\n",
       "      <th></th>\n",
       "      <th></th>\n",
       "      <th></th>\n",
       "      <th></th>\n",
       "      <th></th>\n",
       "    </tr>\n",
       "  </thead>\n",
       "  <tbody>\n",
       "    <tr>\n",
       "      <th>per_gene</th>\n",
       "      <td>0.388983</td>\n",
       "      <td>0.077619</td>\n",
       "      <td>0.899038</td>\n",
       "      <td>0.253242</td>\n",
       "      <td>test.pt-1024</td>\n",
       "    </tr>\n",
       "    <tr>\n",
       "      <th>per_term</th>\n",
       "      <td>0.016934</td>\n",
       "      <td>14.113027</td>\n",
       "      <td>0.337528</td>\n",
       "      <td>0.003041</td>\n",
       "      <td>test.pt-1024</td>\n",
       "    </tr>\n",
       "  </tbody>\n",
       "</table>\n",
       "</div>"
      ],
      "text/plain": [
       "                f_max      s_min   auc_roc    auc_pr         model\n",
       "metric_type                                                       \n",
       "per_gene     0.388983   0.077619  0.899038  0.253242  test.pt-1024\n",
       "per_term     0.016934  14.113027  0.337528  0.003041  test.pt-1024"
      ]
     },
     "execution_count": 235,
     "metadata": {},
     "output_type": "execute_result"
    }
   ],
   "source": [
    "m = MultiLabelKNeighborsClassifier(metric='precomputed', n_neighbors=1)\n",
    "m.fit(X_dists_train, y_train)\n",
    "\n",
    "y_pred = m.predict(X_dists_test)\n",
    "y_proba = m.predict_proba(X_dists_test)\n",
    "y_pred = y_pred.todense()\n",
    "y_pred = y_pred.A\n",
    "y_proba = y_proba.todense()\n",
    "y_proba = y_proba.A\n",
    "\n",
    "information_content = pd.read_table(os.path.join(data_dir, '83333', 'uppropagated-annotations.IC'))\n",
    "information_content.set_index('goterm', inplace=True)\n",
    "ic_sorted = information_content.loc[classes].values.flatten()\n",
    "\n",
    "metrics = get_metrics(y_test, y_proba, ic_sorted)\n",
    "\n",
    "eval_metrics = ['f_max', 's_min', 'auc_roc', 'auc_pr']\n",
    "evaluation = metrics[eval_metrics + ['metric_type']]\n",
    "ev = evaluation.groupby('metric_type').mean()\n",
    "\n",
    "ev['model'] = model_name\n",
    "evaluations = []\n",
    "evaluations.append(ev)\n",
    "df = pd.concat(evaluations)\n",
    "df"
   ]
  },
  {
   "cell_type": "code",
   "execution_count": 236,
   "id": "3322fe5e-f1ff-4ba4-a46a-aa9702c77a13",
   "metadata": {},
   "outputs": [
    {
     "data": {
      "text/html": [
       "<div>\n",
       "<style scoped>\n",
       "    .dataframe tbody tr th:only-of-type {\n",
       "        vertical-align: middle;\n",
       "    }\n",
       "\n",
       "    .dataframe tbody tr th {\n",
       "        vertical-align: top;\n",
       "    }\n",
       "\n",
       "    .dataframe thead th {\n",
       "        text-align: right;\n",
       "    }\n",
       "</style>\n",
       "<table border=\"1\" class=\"dataframe\">\n",
       "  <thead>\n",
       "    <tr style=\"text-align: right;\">\n",
       "      <th></th>\n",
       "      <th>f_max</th>\n",
       "      <th>s_min</th>\n",
       "      <th>auc_roc</th>\n",
       "      <th>auc_pr</th>\n",
       "      <th>model</th>\n",
       "    </tr>\n",
       "    <tr>\n",
       "      <th>metric_type</th>\n",
       "      <th></th>\n",
       "      <th></th>\n",
       "      <th></th>\n",
       "      <th></th>\n",
       "      <th></th>\n",
       "    </tr>\n",
       "  </thead>\n",
       "  <tbody>\n",
       "    <tr>\n",
       "      <th>per_gene</th>\n",
       "      <td>0.388983</td>\n",
       "      <td>0.077619</td>\n",
       "      <td>0.899038</td>\n",
       "      <td>0.253242</td>\n",
       "      <td>test.pt-1024</td>\n",
       "    </tr>\n",
       "    <tr>\n",
       "      <th>per_term</th>\n",
       "      <td>0.016934</td>\n",
       "      <td>14.113027</td>\n",
       "      <td>0.337528</td>\n",
       "      <td>0.003041</td>\n",
       "      <td>test.pt-1024</td>\n",
       "    </tr>\n",
       "  </tbody>\n",
       "</table>\n",
       "</div>"
      ],
      "text/plain": [
       "                f_max      s_min   auc_roc    auc_pr         model\n",
       "metric_type                                                       \n",
       "per_gene     0.388983   0.077619  0.899038  0.253242  test.pt-1024\n",
       "per_term     0.016934  14.113027  0.337528  0.003041  test.pt-1024"
      ]
     },
     "execution_count": 236,
     "metadata": {},
     "output_type": "execute_result"
    }
   ],
   "source": [
    "df"
   ]
  },
  {
   "cell_type": "code",
   "execution_count": null,
   "id": "4090e350-232b-40cc-aef6-554ae04386e9",
   "metadata": {},
   "outputs": [],
   "source": []
  }
 ],
 "metadata": {
  "kernelspec": {
   "display_name": "Python 3 (ipykernel)",
   "language": "python",
   "name": "python3"
  },
  "language_info": {
   "codemirror_mode": {
    "name": "ipython",
    "version": 3
   },
   "file_extension": ".py",
   "mimetype": "text/x-python",
   "name": "python",
   "nbconvert_exporter": "python",
   "pygments_lexer": "ipython3",
   "version": "3.9.1"
  }
 },
 "nbformat": 4,
 "nbformat_minor": 5
}
