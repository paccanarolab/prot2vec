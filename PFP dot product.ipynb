{
 "cells": [
  {
   "cell_type": "code",
   "execution_count": 1,
   "id": "9896bb3b-fb4e-4de3-850b-20806b6ad741",
   "metadata": {},
   "outputs": [],
   "source": [
    "import numpy as np\n",
    "import pandas as pd\n",
    "import matplotlib.pyplot as plt\n",
    "import seaborn as sns\n",
    "import os\n",
    "from scipy.spatial.distance import pdist, squareform"
   ]
  },
  {
   "cell_type": "code",
   "execution_count": 2,
   "id": "7bfba88c-d7b7-4df6-9559-d2a72d57d150",
   "metadata": {},
   "outputs": [],
   "source": [
    "data_dir = \"/Users/torresmateo/OneDrive - FGV/prot2vec\"\n",
    "if os.name == 'nt':\n",
    "    data_dir = \"D:/OneDrive - FGV/prot2vec\"\n",
    "    "
   ]
  },
  {
   "cell_type": "code",
   "execution_count": 3,
   "id": "89f933da-c312-44e1-98fb-79de028126cb",
   "metadata": {},
   "outputs": [],
   "source": [
    "vecs = pd.read_pickle(os.path.join(data_dir, \"[SiameseSimilarityNet-relu]-200_epochs.pt-representations.pkl\"))\n",
    "features = [f'prot2vec_{i}' for i in range(256)]\n",
    "vecs = pd.concat([vecs, pd.DataFrame(vecs['vector'].to_list(), index=vecs.index, columns = features)], axis=1)\n",
    "vecs = vecs[['protein', 'set'] + features]"
   ]
  },
  {
   "cell_type": "code",
   "execution_count": 4,
   "id": "d6851ccb-85dd-410e-a37b-d9b2ac8ce07e",
   "metadata": {},
   "outputs": [
    {
     "data": {
      "text/html": [
       "<div>\n",
       "<style scoped>\n",
       "    .dataframe tbody tr th:only-of-type {\n",
       "        vertical-align: middle;\n",
       "    }\n",
       "\n",
       "    .dataframe tbody tr th {\n",
       "        vertical-align: top;\n",
       "    }\n",
       "\n",
       "    .dataframe thead th {\n",
       "        text-align: right;\n",
       "    }\n",
       "</style>\n",
       "<table border=\"1\" class=\"dataframe\">\n",
       "  <thead>\n",
       "    <tr style=\"text-align: right;\">\n",
       "      <th></th>\n",
       "      <th>protein</th>\n",
       "      <th>set</th>\n",
       "      <th>prot2vec_0</th>\n",
       "      <th>prot2vec_1</th>\n",
       "      <th>prot2vec_2</th>\n",
       "      <th>prot2vec_3</th>\n",
       "      <th>prot2vec_4</th>\n",
       "      <th>prot2vec_5</th>\n",
       "      <th>prot2vec_6</th>\n",
       "      <th>prot2vec_7</th>\n",
       "      <th>...</th>\n",
       "      <th>prot2vec_246</th>\n",
       "      <th>prot2vec_247</th>\n",
       "      <th>prot2vec_248</th>\n",
       "      <th>prot2vec_249</th>\n",
       "      <th>prot2vec_250</th>\n",
       "      <th>prot2vec_251</th>\n",
       "      <th>prot2vec_252</th>\n",
       "      <th>prot2vec_253</th>\n",
       "      <th>prot2vec_254</th>\n",
       "      <th>prot2vec_255</th>\n",
       "    </tr>\n",
       "  </thead>\n",
       "  <tbody>\n",
       "    <tr>\n",
       "      <th>0</th>\n",
       "      <td>C1P607</td>\n",
       "      <td>train</td>\n",
       "      <td>0.000000</td>\n",
       "      <td>0.000000</td>\n",
       "      <td>0.028082</td>\n",
       "      <td>0.000000</td>\n",
       "      <td>0.000000</td>\n",
       "      <td>0.000000</td>\n",
       "      <td>0.050795</td>\n",
       "      <td>0.000000</td>\n",
       "      <td>...</td>\n",
       "      <td>0.000000</td>\n",
       "      <td>0.000000</td>\n",
       "      <td>0.0</td>\n",
       "      <td>0.000000</td>\n",
       "      <td>0.000000</td>\n",
       "      <td>0.000000</td>\n",
       "      <td>0.000000</td>\n",
       "      <td>0.044362</td>\n",
       "      <td>0.000000</td>\n",
       "      <td>0.000000</td>\n",
       "    </tr>\n",
       "    <tr>\n",
       "      <th>1</th>\n",
       "      <td>C1P615</td>\n",
       "      <td>train</td>\n",
       "      <td>0.000000</td>\n",
       "      <td>0.000000</td>\n",
       "      <td>0.028082</td>\n",
       "      <td>0.000000</td>\n",
       "      <td>0.000000</td>\n",
       "      <td>0.000000</td>\n",
       "      <td>0.050795</td>\n",
       "      <td>0.000000</td>\n",
       "      <td>...</td>\n",
       "      <td>0.000000</td>\n",
       "      <td>0.000000</td>\n",
       "      <td>0.0</td>\n",
       "      <td>0.000000</td>\n",
       "      <td>0.000000</td>\n",
       "      <td>0.000000</td>\n",
       "      <td>0.000000</td>\n",
       "      <td>0.044362</td>\n",
       "      <td>0.000000</td>\n",
       "      <td>0.000000</td>\n",
       "    </tr>\n",
       "    <tr>\n",
       "      <th>2</th>\n",
       "      <td>O32528</td>\n",
       "      <td>train</td>\n",
       "      <td>0.002485</td>\n",
       "      <td>0.006133</td>\n",
       "      <td>0.055946</td>\n",
       "      <td>0.002672</td>\n",
       "      <td>0.019455</td>\n",
       "      <td>0.014974</td>\n",
       "      <td>0.029565</td>\n",
       "      <td>0.000080</td>\n",
       "      <td>...</td>\n",
       "      <td>0.019311</td>\n",
       "      <td>0.000000</td>\n",
       "      <td>0.0</td>\n",
       "      <td>0.001157</td>\n",
       "      <td>0.000000</td>\n",
       "      <td>0.000000</td>\n",
       "      <td>0.000000</td>\n",
       "      <td>0.079693</td>\n",
       "      <td>0.000385</td>\n",
       "      <td>0.000000</td>\n",
       "    </tr>\n",
       "    <tr>\n",
       "      <th>3</th>\n",
       "      <td>P00350</td>\n",
       "      <td>train</td>\n",
       "      <td>0.000000</td>\n",
       "      <td>0.003082</td>\n",
       "      <td>0.036483</td>\n",
       "      <td>0.002623</td>\n",
       "      <td>0.000000</td>\n",
       "      <td>0.000000</td>\n",
       "      <td>0.008351</td>\n",
       "      <td>0.004073</td>\n",
       "      <td>...</td>\n",
       "      <td>0.000000</td>\n",
       "      <td>0.001257</td>\n",
       "      <td>0.0</td>\n",
       "      <td>0.001385</td>\n",
       "      <td>0.029654</td>\n",
       "      <td>0.000000</td>\n",
       "      <td>0.000000</td>\n",
       "      <td>0.000000</td>\n",
       "      <td>0.000790</td>\n",
       "      <td>0.000000</td>\n",
       "    </tr>\n",
       "    <tr>\n",
       "      <th>4</th>\n",
       "      <td>P00363</td>\n",
       "      <td>train</td>\n",
       "      <td>0.000000</td>\n",
       "      <td>0.006020</td>\n",
       "      <td>0.039784</td>\n",
       "      <td>0.008944</td>\n",
       "      <td>0.006469</td>\n",
       "      <td>0.000000</td>\n",
       "      <td>0.000000</td>\n",
       "      <td>0.009950</td>\n",
       "      <td>...</td>\n",
       "      <td>0.000000</td>\n",
       "      <td>0.010622</td>\n",
       "      <td>0.0</td>\n",
       "      <td>0.003226</td>\n",
       "      <td>0.070484</td>\n",
       "      <td>0.000000</td>\n",
       "      <td>0.000000</td>\n",
       "      <td>0.000000</td>\n",
       "      <td>0.003497</td>\n",
       "      <td>0.000000</td>\n",
       "    </tr>\n",
       "    <tr>\n",
       "      <th>...</th>\n",
       "      <td>...</td>\n",
       "      <td>...</td>\n",
       "      <td>...</td>\n",
       "      <td>...</td>\n",
       "      <td>...</td>\n",
       "      <td>...</td>\n",
       "      <td>...</td>\n",
       "      <td>...</td>\n",
       "      <td>...</td>\n",
       "      <td>...</td>\n",
       "      <td>...</td>\n",
       "      <td>...</td>\n",
       "      <td>...</td>\n",
       "      <td>...</td>\n",
       "      <td>...</td>\n",
       "      <td>...</td>\n",
       "      <td>...</td>\n",
       "      <td>...</td>\n",
       "      <td>...</td>\n",
       "      <td>...</td>\n",
       "      <td>...</td>\n",
       "    </tr>\n",
       "    <tr>\n",
       "      <th>2267</th>\n",
       "      <td>Q47149</td>\n",
       "      <td>test</td>\n",
       "      <td>0.000831</td>\n",
       "      <td>0.008667</td>\n",
       "      <td>0.000000</td>\n",
       "      <td>0.013156</td>\n",
       "      <td>0.018391</td>\n",
       "      <td>0.000000</td>\n",
       "      <td>0.000000</td>\n",
       "      <td>0.006815</td>\n",
       "      <td>...</td>\n",
       "      <td>0.000000</td>\n",
       "      <td>0.011543</td>\n",
       "      <td>0.0</td>\n",
       "      <td>0.004399</td>\n",
       "      <td>0.000000</td>\n",
       "      <td>0.000000</td>\n",
       "      <td>0.000000</td>\n",
       "      <td>0.010090</td>\n",
       "      <td>0.005265</td>\n",
       "      <td>0.000000</td>\n",
       "    </tr>\n",
       "    <tr>\n",
       "      <th>2268</th>\n",
       "      <td>Q47538</td>\n",
       "      <td>test</td>\n",
       "      <td>0.004285</td>\n",
       "      <td>0.011408</td>\n",
       "      <td>0.000000</td>\n",
       "      <td>0.008088</td>\n",
       "      <td>0.052936</td>\n",
       "      <td>0.066988</td>\n",
       "      <td>0.000000</td>\n",
       "      <td>0.018088</td>\n",
       "      <td>...</td>\n",
       "      <td>0.000000</td>\n",
       "      <td>0.026626</td>\n",
       "      <td>0.0</td>\n",
       "      <td>0.013497</td>\n",
       "      <td>0.062536</td>\n",
       "      <td>0.015671</td>\n",
       "      <td>0.022751</td>\n",
       "      <td>0.000000</td>\n",
       "      <td>0.023180</td>\n",
       "      <td>0.000000</td>\n",
       "    </tr>\n",
       "    <tr>\n",
       "      <th>2269</th>\n",
       "      <td>Q47689</td>\n",
       "      <td>test</td>\n",
       "      <td>0.000943</td>\n",
       "      <td>0.005582</td>\n",
       "      <td>0.011060</td>\n",
       "      <td>0.006834</td>\n",
       "      <td>0.004057</td>\n",
       "      <td>0.034293</td>\n",
       "      <td>0.009787</td>\n",
       "      <td>0.008432</td>\n",
       "      <td>...</td>\n",
       "      <td>0.005284</td>\n",
       "      <td>0.000000</td>\n",
       "      <td>0.0</td>\n",
       "      <td>0.005779</td>\n",
       "      <td>0.018987</td>\n",
       "      <td>0.000000</td>\n",
       "      <td>0.038761</td>\n",
       "      <td>0.000456</td>\n",
       "      <td>0.001749</td>\n",
       "      <td>0.000000</td>\n",
       "    </tr>\n",
       "    <tr>\n",
       "      <th>2270</th>\n",
       "      <td>Q57261</td>\n",
       "      <td>test</td>\n",
       "      <td>0.000405</td>\n",
       "      <td>0.003913</td>\n",
       "      <td>0.027630</td>\n",
       "      <td>0.005108</td>\n",
       "      <td>0.004517</td>\n",
       "      <td>0.081702</td>\n",
       "      <td>0.014784</td>\n",
       "      <td>0.000000</td>\n",
       "      <td>...</td>\n",
       "      <td>0.027928</td>\n",
       "      <td>0.000000</td>\n",
       "      <td>0.0</td>\n",
       "      <td>0.000597</td>\n",
       "      <td>0.000000</td>\n",
       "      <td>0.000000</td>\n",
       "      <td>0.000000</td>\n",
       "      <td>0.062300</td>\n",
       "      <td>0.000000</td>\n",
       "      <td>0.000000</td>\n",
       "    </tr>\n",
       "    <tr>\n",
       "      <th>2271</th>\n",
       "      <td>Q6BF17</td>\n",
       "      <td>test</td>\n",
       "      <td>0.008308</td>\n",
       "      <td>0.010651</td>\n",
       "      <td>0.016044</td>\n",
       "      <td>0.015272</td>\n",
       "      <td>0.028332</td>\n",
       "      <td>0.084854</td>\n",
       "      <td>0.000000</td>\n",
       "      <td>0.008379</td>\n",
       "      <td>...</td>\n",
       "      <td>0.020307</td>\n",
       "      <td>0.016199</td>\n",
       "      <td>0.0</td>\n",
       "      <td>0.006105</td>\n",
       "      <td>0.000000</td>\n",
       "      <td>0.091605</td>\n",
       "      <td>0.028999</td>\n",
       "      <td>0.000000</td>\n",
       "      <td>0.011927</td>\n",
       "      <td>0.107266</td>\n",
       "    </tr>\n",
       "  </tbody>\n",
       "</table>\n",
       "<p>2272 rows × 258 columns</p>\n",
       "</div>"
      ],
      "text/plain": [
       "     protein    set  prot2vec_0  prot2vec_1  prot2vec_2  prot2vec_3  \\\n",
       "0     C1P607  train    0.000000    0.000000    0.028082    0.000000   \n",
       "1     C1P615  train    0.000000    0.000000    0.028082    0.000000   \n",
       "2     O32528  train    0.002485    0.006133    0.055946    0.002672   \n",
       "3     P00350  train    0.000000    0.003082    0.036483    0.002623   \n",
       "4     P00363  train    0.000000    0.006020    0.039784    0.008944   \n",
       "...      ...    ...         ...         ...         ...         ...   \n",
       "2267  Q47149   test    0.000831    0.008667    0.000000    0.013156   \n",
       "2268  Q47538   test    0.004285    0.011408    0.000000    0.008088   \n",
       "2269  Q47689   test    0.000943    0.005582    0.011060    0.006834   \n",
       "2270  Q57261   test    0.000405    0.003913    0.027630    0.005108   \n",
       "2271  Q6BF17   test    0.008308    0.010651    0.016044    0.015272   \n",
       "\n",
       "      prot2vec_4  prot2vec_5  prot2vec_6  prot2vec_7  ...  prot2vec_246  \\\n",
       "0       0.000000    0.000000    0.050795    0.000000  ...      0.000000   \n",
       "1       0.000000    0.000000    0.050795    0.000000  ...      0.000000   \n",
       "2       0.019455    0.014974    0.029565    0.000080  ...      0.019311   \n",
       "3       0.000000    0.000000    0.008351    0.004073  ...      0.000000   \n",
       "4       0.006469    0.000000    0.000000    0.009950  ...      0.000000   \n",
       "...          ...         ...         ...         ...  ...           ...   \n",
       "2267    0.018391    0.000000    0.000000    0.006815  ...      0.000000   \n",
       "2268    0.052936    0.066988    0.000000    0.018088  ...      0.000000   \n",
       "2269    0.004057    0.034293    0.009787    0.008432  ...      0.005284   \n",
       "2270    0.004517    0.081702    0.014784    0.000000  ...      0.027928   \n",
       "2271    0.028332    0.084854    0.000000    0.008379  ...      0.020307   \n",
       "\n",
       "      prot2vec_247  prot2vec_248  prot2vec_249  prot2vec_250  prot2vec_251  \\\n",
       "0         0.000000           0.0      0.000000      0.000000      0.000000   \n",
       "1         0.000000           0.0      0.000000      0.000000      0.000000   \n",
       "2         0.000000           0.0      0.001157      0.000000      0.000000   \n",
       "3         0.001257           0.0      0.001385      0.029654      0.000000   \n",
       "4         0.010622           0.0      0.003226      0.070484      0.000000   \n",
       "...            ...           ...           ...           ...           ...   \n",
       "2267      0.011543           0.0      0.004399      0.000000      0.000000   \n",
       "2268      0.026626           0.0      0.013497      0.062536      0.015671   \n",
       "2269      0.000000           0.0      0.005779      0.018987      0.000000   \n",
       "2270      0.000000           0.0      0.000597      0.000000      0.000000   \n",
       "2271      0.016199           0.0      0.006105      0.000000      0.091605   \n",
       "\n",
       "      prot2vec_252  prot2vec_253  prot2vec_254  prot2vec_255  \n",
       "0         0.000000      0.044362      0.000000      0.000000  \n",
       "1         0.000000      0.044362      0.000000      0.000000  \n",
       "2         0.000000      0.079693      0.000385      0.000000  \n",
       "3         0.000000      0.000000      0.000790      0.000000  \n",
       "4         0.000000      0.000000      0.003497      0.000000  \n",
       "...            ...           ...           ...           ...  \n",
       "2267      0.000000      0.010090      0.005265      0.000000  \n",
       "2268      0.022751      0.000000      0.023180      0.000000  \n",
       "2269      0.038761      0.000456      0.001749      0.000000  \n",
       "2270      0.000000      0.062300      0.000000      0.000000  \n",
       "2271      0.028999      0.000000      0.011927      0.107266  \n",
       "\n",
       "[2272 rows x 258 columns]"
      ]
     },
     "execution_count": 4,
     "metadata": {},
     "output_type": "execute_result"
    }
   ],
   "source": [
    "vecs"
   ]
  },
  {
   "cell_type": "code",
   "execution_count": 5,
   "id": "60f75f3a-9269-4fcd-8b4f-43179fd19f6f",
   "metadata": {},
   "outputs": [],
   "source": [
    "annotations = pd.read_table(os.path.join(data_dir, '83333', 'uppropagated-annotations.BP'))\n",
    "annotations.columns = ['protein', 'goterm']\n",
    "annotations = annotations.merge(vecs[['protein', 'set']])"
   ]
  },
  {
   "cell_type": "code",
   "execution_count": 6,
   "id": "23a7dab4-9529-4f98-b5d6-74c4e89db7ca",
   "metadata": {},
   "outputs": [
    {
     "data": {
      "text/plain": [
       "(2252,)"
      ]
     },
     "execution_count": 6,
     "metadata": {},
     "output_type": "execute_result"
    }
   ],
   "source": [
    "annotations.protein.unique().shape"
   ]
  },
  {
   "cell_type": "code",
   "execution_count": 7,
   "id": "3ae89bd2-6d2c-414d-b245-603553604e9f",
   "metadata": {},
   "outputs": [],
   "source": [
    "condition = annotations['set'].isin(['train', 'validation'])\n",
    "y = annotations[['protein', 'goterm']]\n",
    "y['value'] = 1\n",
    "y = y.pivot('protein', 'goterm', 'value').fillna(0).reset_index()"
   ]
  },
  {
   "cell_type": "code",
   "execution_count": 8,
   "id": "8e03c4fb-8e2c-40b2-bd59-e234dd92f2b1",
   "metadata": {},
   "outputs": [],
   "source": [
    "classes = y.columns[~y.columns.isin(['protein'])].to_numpy()"
   ]
  },
  {
   "cell_type": "code",
   "execution_count": 9,
   "id": "c1cddf15-e1d7-4c39-ad65-c43fe5a4cb7b",
   "metadata": {},
   "outputs": [],
   "source": [
    "dataset = vecs.merge(y)"
   ]
  },
  {
   "cell_type": "code",
   "execution_count": 10,
   "id": "b3cecd1c-52fd-42eb-a3a9-70870ba7753d",
   "metadata": {},
   "outputs": [
    {
     "data": {
      "text/html": [
       "<div>\n",
       "<style scoped>\n",
       "    .dataframe tbody tr th:only-of-type {\n",
       "        vertical-align: middle;\n",
       "    }\n",
       "\n",
       "    .dataframe tbody tr th {\n",
       "        vertical-align: top;\n",
       "    }\n",
       "\n",
       "    .dataframe thead th {\n",
       "        text-align: right;\n",
       "    }\n",
       "</style>\n",
       "<table border=\"1\" class=\"dataframe\">\n",
       "  <thead>\n",
       "    <tr style=\"text-align: right;\">\n",
       "      <th></th>\n",
       "      <th>protein</th>\n",
       "      <th>set</th>\n",
       "      <th>prot2vec_0</th>\n",
       "      <th>prot2vec_1</th>\n",
       "      <th>prot2vec_2</th>\n",
       "      <th>prot2vec_3</th>\n",
       "      <th>prot2vec_4</th>\n",
       "      <th>prot2vec_5</th>\n",
       "      <th>prot2vec_6</th>\n",
       "      <th>prot2vec_7</th>\n",
       "      <th>...</th>\n",
       "      <th>GO:2001023</th>\n",
       "      <th>GO:2001057</th>\n",
       "      <th>GO:2001060</th>\n",
       "      <th>GO:2001061</th>\n",
       "      <th>GO:2001124</th>\n",
       "      <th>GO:2001125</th>\n",
       "      <th>GO:2001141</th>\n",
       "      <th>GO:2001251</th>\n",
       "      <th>GO:2001313</th>\n",
       "      <th>GO:2001315</th>\n",
       "    </tr>\n",
       "  </thead>\n",
       "  <tbody>\n",
       "    <tr>\n",
       "      <th>0</th>\n",
       "      <td>C1P607</td>\n",
       "      <td>train</td>\n",
       "      <td>0.000000</td>\n",
       "      <td>0.000000</td>\n",
       "      <td>0.028082</td>\n",
       "      <td>0.000000</td>\n",
       "      <td>0.000000</td>\n",
       "      <td>0.000000</td>\n",
       "      <td>0.050795</td>\n",
       "      <td>0.000000</td>\n",
       "      <td>...</td>\n",
       "      <td>0.0</td>\n",
       "      <td>0.0</td>\n",
       "      <td>0.0</td>\n",
       "      <td>0.0</td>\n",
       "      <td>0.0</td>\n",
       "      <td>0.0</td>\n",
       "      <td>0.0</td>\n",
       "      <td>0.0</td>\n",
       "      <td>0.0</td>\n",
       "      <td>0.0</td>\n",
       "    </tr>\n",
       "    <tr>\n",
       "      <th>1</th>\n",
       "      <td>C1P615</td>\n",
       "      <td>train</td>\n",
       "      <td>0.000000</td>\n",
       "      <td>0.000000</td>\n",
       "      <td>0.028082</td>\n",
       "      <td>0.000000</td>\n",
       "      <td>0.000000</td>\n",
       "      <td>0.000000</td>\n",
       "      <td>0.050795</td>\n",
       "      <td>0.000000</td>\n",
       "      <td>...</td>\n",
       "      <td>0.0</td>\n",
       "      <td>0.0</td>\n",
       "      <td>0.0</td>\n",
       "      <td>0.0</td>\n",
       "      <td>0.0</td>\n",
       "      <td>0.0</td>\n",
       "      <td>0.0</td>\n",
       "      <td>0.0</td>\n",
       "      <td>0.0</td>\n",
       "      <td>0.0</td>\n",
       "    </tr>\n",
       "    <tr>\n",
       "      <th>2</th>\n",
       "      <td>O32528</td>\n",
       "      <td>train</td>\n",
       "      <td>0.002485</td>\n",
       "      <td>0.006133</td>\n",
       "      <td>0.055946</td>\n",
       "      <td>0.002672</td>\n",
       "      <td>0.019455</td>\n",
       "      <td>0.014974</td>\n",
       "      <td>0.029565</td>\n",
       "      <td>0.000080</td>\n",
       "      <td>...</td>\n",
       "      <td>0.0</td>\n",
       "      <td>0.0</td>\n",
       "      <td>0.0</td>\n",
       "      <td>0.0</td>\n",
       "      <td>0.0</td>\n",
       "      <td>0.0</td>\n",
       "      <td>0.0</td>\n",
       "      <td>0.0</td>\n",
       "      <td>0.0</td>\n",
       "      <td>0.0</td>\n",
       "    </tr>\n",
       "    <tr>\n",
       "      <th>3</th>\n",
       "      <td>P00350</td>\n",
       "      <td>train</td>\n",
       "      <td>0.000000</td>\n",
       "      <td>0.003082</td>\n",
       "      <td>0.036483</td>\n",
       "      <td>0.002623</td>\n",
       "      <td>0.000000</td>\n",
       "      <td>0.000000</td>\n",
       "      <td>0.008351</td>\n",
       "      <td>0.004073</td>\n",
       "      <td>...</td>\n",
       "      <td>0.0</td>\n",
       "      <td>0.0</td>\n",
       "      <td>0.0</td>\n",
       "      <td>0.0</td>\n",
       "      <td>0.0</td>\n",
       "      <td>0.0</td>\n",
       "      <td>0.0</td>\n",
       "      <td>0.0</td>\n",
       "      <td>0.0</td>\n",
       "      <td>0.0</td>\n",
       "    </tr>\n",
       "    <tr>\n",
       "      <th>4</th>\n",
       "      <td>P00363</td>\n",
       "      <td>train</td>\n",
       "      <td>0.000000</td>\n",
       "      <td>0.006020</td>\n",
       "      <td>0.039784</td>\n",
       "      <td>0.008944</td>\n",
       "      <td>0.006469</td>\n",
       "      <td>0.000000</td>\n",
       "      <td>0.000000</td>\n",
       "      <td>0.009950</td>\n",
       "      <td>...</td>\n",
       "      <td>0.0</td>\n",
       "      <td>0.0</td>\n",
       "      <td>0.0</td>\n",
       "      <td>0.0</td>\n",
       "      <td>0.0</td>\n",
       "      <td>0.0</td>\n",
       "      <td>0.0</td>\n",
       "      <td>0.0</td>\n",
       "      <td>0.0</td>\n",
       "      <td>0.0</td>\n",
       "    </tr>\n",
       "    <tr>\n",
       "      <th>...</th>\n",
       "      <td>...</td>\n",
       "      <td>...</td>\n",
       "      <td>...</td>\n",
       "      <td>...</td>\n",
       "      <td>...</td>\n",
       "      <td>...</td>\n",
       "      <td>...</td>\n",
       "      <td>...</td>\n",
       "      <td>...</td>\n",
       "      <td>...</td>\n",
       "      <td>...</td>\n",
       "      <td>...</td>\n",
       "      <td>...</td>\n",
       "      <td>...</td>\n",
       "      <td>...</td>\n",
       "      <td>...</td>\n",
       "      <td>...</td>\n",
       "      <td>...</td>\n",
       "      <td>...</td>\n",
       "      <td>...</td>\n",
       "      <td>...</td>\n",
       "    </tr>\n",
       "    <tr>\n",
       "      <th>2247</th>\n",
       "      <td>Q47149</td>\n",
       "      <td>test</td>\n",
       "      <td>0.000831</td>\n",
       "      <td>0.008667</td>\n",
       "      <td>0.000000</td>\n",
       "      <td>0.013156</td>\n",
       "      <td>0.018391</td>\n",
       "      <td>0.000000</td>\n",
       "      <td>0.000000</td>\n",
       "      <td>0.006815</td>\n",
       "      <td>...</td>\n",
       "      <td>0.0</td>\n",
       "      <td>0.0</td>\n",
       "      <td>0.0</td>\n",
       "      <td>0.0</td>\n",
       "      <td>0.0</td>\n",
       "      <td>0.0</td>\n",
       "      <td>0.0</td>\n",
       "      <td>0.0</td>\n",
       "      <td>0.0</td>\n",
       "      <td>0.0</td>\n",
       "    </tr>\n",
       "    <tr>\n",
       "      <th>2248</th>\n",
       "      <td>Q47538</td>\n",
       "      <td>test</td>\n",
       "      <td>0.004285</td>\n",
       "      <td>0.011408</td>\n",
       "      <td>0.000000</td>\n",
       "      <td>0.008088</td>\n",
       "      <td>0.052936</td>\n",
       "      <td>0.066988</td>\n",
       "      <td>0.000000</td>\n",
       "      <td>0.018088</td>\n",
       "      <td>...</td>\n",
       "      <td>0.0</td>\n",
       "      <td>0.0</td>\n",
       "      <td>0.0</td>\n",
       "      <td>0.0</td>\n",
       "      <td>0.0</td>\n",
       "      <td>0.0</td>\n",
       "      <td>0.0</td>\n",
       "      <td>0.0</td>\n",
       "      <td>0.0</td>\n",
       "      <td>0.0</td>\n",
       "    </tr>\n",
       "    <tr>\n",
       "      <th>2249</th>\n",
       "      <td>Q47689</td>\n",
       "      <td>test</td>\n",
       "      <td>0.000943</td>\n",
       "      <td>0.005582</td>\n",
       "      <td>0.011060</td>\n",
       "      <td>0.006834</td>\n",
       "      <td>0.004057</td>\n",
       "      <td>0.034293</td>\n",
       "      <td>0.009787</td>\n",
       "      <td>0.008432</td>\n",
       "      <td>...</td>\n",
       "      <td>0.0</td>\n",
       "      <td>0.0</td>\n",
       "      <td>0.0</td>\n",
       "      <td>0.0</td>\n",
       "      <td>0.0</td>\n",
       "      <td>0.0</td>\n",
       "      <td>0.0</td>\n",
       "      <td>0.0</td>\n",
       "      <td>0.0</td>\n",
       "      <td>0.0</td>\n",
       "    </tr>\n",
       "    <tr>\n",
       "      <th>2250</th>\n",
       "      <td>Q57261</td>\n",
       "      <td>test</td>\n",
       "      <td>0.000405</td>\n",
       "      <td>0.003913</td>\n",
       "      <td>0.027630</td>\n",
       "      <td>0.005108</td>\n",
       "      <td>0.004517</td>\n",
       "      <td>0.081702</td>\n",
       "      <td>0.014784</td>\n",
       "      <td>0.000000</td>\n",
       "      <td>...</td>\n",
       "      <td>0.0</td>\n",
       "      <td>0.0</td>\n",
       "      <td>0.0</td>\n",
       "      <td>0.0</td>\n",
       "      <td>0.0</td>\n",
       "      <td>0.0</td>\n",
       "      <td>0.0</td>\n",
       "      <td>0.0</td>\n",
       "      <td>0.0</td>\n",
       "      <td>0.0</td>\n",
       "    </tr>\n",
       "    <tr>\n",
       "      <th>2251</th>\n",
       "      <td>Q6BF17</td>\n",
       "      <td>test</td>\n",
       "      <td>0.008308</td>\n",
       "      <td>0.010651</td>\n",
       "      <td>0.016044</td>\n",
       "      <td>0.015272</td>\n",
       "      <td>0.028332</td>\n",
       "      <td>0.084854</td>\n",
       "      <td>0.000000</td>\n",
       "      <td>0.008379</td>\n",
       "      <td>...</td>\n",
       "      <td>0.0</td>\n",
       "      <td>0.0</td>\n",
       "      <td>0.0</td>\n",
       "      <td>0.0</td>\n",
       "      <td>0.0</td>\n",
       "      <td>0.0</td>\n",
       "      <td>0.0</td>\n",
       "      <td>0.0</td>\n",
       "      <td>0.0</td>\n",
       "      <td>0.0</td>\n",
       "    </tr>\n",
       "  </tbody>\n",
       "</table>\n",
       "<p>2252 rows × 2959 columns</p>\n",
       "</div>"
      ],
      "text/plain": [
       "     protein    set  prot2vec_0  prot2vec_1  prot2vec_2  prot2vec_3  \\\n",
       "0     C1P607  train    0.000000    0.000000    0.028082    0.000000   \n",
       "1     C1P615  train    0.000000    0.000000    0.028082    0.000000   \n",
       "2     O32528  train    0.002485    0.006133    0.055946    0.002672   \n",
       "3     P00350  train    0.000000    0.003082    0.036483    0.002623   \n",
       "4     P00363  train    0.000000    0.006020    0.039784    0.008944   \n",
       "...      ...    ...         ...         ...         ...         ...   \n",
       "2247  Q47149   test    0.000831    0.008667    0.000000    0.013156   \n",
       "2248  Q47538   test    0.004285    0.011408    0.000000    0.008088   \n",
       "2249  Q47689   test    0.000943    0.005582    0.011060    0.006834   \n",
       "2250  Q57261   test    0.000405    0.003913    0.027630    0.005108   \n",
       "2251  Q6BF17   test    0.008308    0.010651    0.016044    0.015272   \n",
       "\n",
       "      prot2vec_4  prot2vec_5  prot2vec_6  prot2vec_7  ...  GO:2001023  \\\n",
       "0       0.000000    0.000000    0.050795    0.000000  ...         0.0   \n",
       "1       0.000000    0.000000    0.050795    0.000000  ...         0.0   \n",
       "2       0.019455    0.014974    0.029565    0.000080  ...         0.0   \n",
       "3       0.000000    0.000000    0.008351    0.004073  ...         0.0   \n",
       "4       0.006469    0.000000    0.000000    0.009950  ...         0.0   \n",
       "...          ...         ...         ...         ...  ...         ...   \n",
       "2247    0.018391    0.000000    0.000000    0.006815  ...         0.0   \n",
       "2248    0.052936    0.066988    0.000000    0.018088  ...         0.0   \n",
       "2249    0.004057    0.034293    0.009787    0.008432  ...         0.0   \n",
       "2250    0.004517    0.081702    0.014784    0.000000  ...         0.0   \n",
       "2251    0.028332    0.084854    0.000000    0.008379  ...         0.0   \n",
       "\n",
       "      GO:2001057  GO:2001060  GO:2001061  GO:2001124  GO:2001125  GO:2001141  \\\n",
       "0            0.0         0.0         0.0         0.0         0.0         0.0   \n",
       "1            0.0         0.0         0.0         0.0         0.0         0.0   \n",
       "2            0.0         0.0         0.0         0.0         0.0         0.0   \n",
       "3            0.0         0.0         0.0         0.0         0.0         0.0   \n",
       "4            0.0         0.0         0.0         0.0         0.0         0.0   \n",
       "...          ...         ...         ...         ...         ...         ...   \n",
       "2247         0.0         0.0         0.0         0.0         0.0         0.0   \n",
       "2248         0.0         0.0         0.0         0.0         0.0         0.0   \n",
       "2249         0.0         0.0         0.0         0.0         0.0         0.0   \n",
       "2250         0.0         0.0         0.0         0.0         0.0         0.0   \n",
       "2251         0.0         0.0         0.0         0.0         0.0         0.0   \n",
       "\n",
       "      GO:2001251  GO:2001313  GO:2001315  \n",
       "0            0.0         0.0         0.0  \n",
       "1            0.0         0.0         0.0  \n",
       "2            0.0         0.0         0.0  \n",
       "3            0.0         0.0         0.0  \n",
       "4            0.0         0.0         0.0  \n",
       "...          ...         ...         ...  \n",
       "2247         0.0         0.0         0.0  \n",
       "2248         0.0         0.0         0.0  \n",
       "2249         0.0         0.0         0.0  \n",
       "2250         0.0         0.0         0.0  \n",
       "2251         0.0         0.0         0.0  \n",
       "\n",
       "[2252 rows x 2959 columns]"
      ]
     },
     "execution_count": 10,
     "metadata": {},
     "output_type": "execute_result"
    }
   ],
   "source": [
    "dataset"
   ]
  },
  {
   "cell_type": "code",
   "execution_count": 11,
   "id": "a1fc67be-c57d-4965-8bec-37a9c13d744b",
   "metadata": {},
   "outputs": [],
   "source": [
    "distances = squareform(pdist(np.stack(dataset[features].values), metric='cosine'))"
   ]
  },
  {
   "cell_type": "code",
   "execution_count": 12,
   "id": "ae8d4ba7-dc36-4dda-9f7c-ed22fa00566f",
   "metadata": {},
   "outputs": [],
   "source": [
    "X_dists_train = distances[dataset['set'].isin(['train', 'validation']),:][:,dataset['set'].isin(['train', 'validation'])]"
   ]
  },
  {
   "cell_type": "code",
   "execution_count": 13,
   "id": "f55de704-d9e8-4eab-a7d9-0d42253190be",
   "metadata": {},
   "outputs": [],
   "source": [
    "X_dists_test = distances[dataset['set'].isin(['test']),:][:,dataset['set'].isin(['train', 'validation'])]"
   ]
  },
  {
   "cell_type": "code",
   "execution_count": 14,
   "id": "a4da53cc-b5bc-422f-8279-97154c1dd31f",
   "metadata": {},
   "outputs": [
    {
     "data": {
      "text/plain": [
       "((1803, 1803), (449, 1803))"
      ]
     },
     "execution_count": 14,
     "metadata": {},
     "output_type": "execute_result"
    }
   ],
   "source": [
    "X_dists_train.shape, X_dists_test.shape"
   ]
  },
  {
   "cell_type": "code",
   "execution_count": 15,
   "id": "0b40b250-ea85-4d51-9d35-3ef6283d53b9",
   "metadata": {},
   "outputs": [],
   "source": [
    "condition = dataset['set'].isin(['train', 'validation'])\n",
    "X_train = dataset[condition][features].values\n",
    "y_train = dataset[condition][classes].values.astype(int)\n",
    "X_test = dataset[~condition][features].values\n",
    "y_test = dataset[~condition][classes].values.astype(int)"
   ]
  },
  {
   "cell_type": "code",
   "execution_count": 16,
   "id": "6d6ad279-c485-4815-bd8c-17be5acf456d",
   "metadata": {},
   "outputs": [
    {
     "data": {
      "text/plain": [
       "((1803, 256), (449, 256), (1803, 2701), (449, 2701))"
      ]
     },
     "execution_count": 16,
     "metadata": {},
     "output_type": "execute_result"
    }
   ],
   "source": [
    "X_train.shape, X_test.shape, y_train.shape, y_test.shape"
   ]
  },
  {
   "cell_type": "code",
   "execution_count": 17,
   "id": "12ef68e2-652f-4c50-95c0-233ee958bdca",
   "metadata": {},
   "outputs": [],
   "source": [
    "from models import MultiLabelKNeighborsClassifier"
   ]
  },
  {
   "cell_type": "code",
   "execution_count": 18,
   "id": "598c65ba-57c5-4a00-98f9-0372b1540728",
   "metadata": {},
   "outputs": [],
   "source": [
    "m = MultiLabelKNeighborsClassifier(metric='precomputed')"
   ]
  },
  {
   "cell_type": "code",
   "execution_count": 19,
   "id": "50a90a59-b586-44b5-b0fe-d2f362341c0c",
   "metadata": {},
   "outputs": [
    {
     "data": {
      "text/plain": [
       "<models.knn.mlknn.MultiLabelKNeighborsClassifier at 0x148211f3820>"
      ]
     },
     "execution_count": 19,
     "metadata": {},
     "output_type": "execute_result"
    }
   ],
   "source": [
    "m.fit(X_dists_train, y_train)"
   ]
  },
  {
   "cell_type": "code",
   "execution_count": 20,
   "id": "8fe06503-0733-4aca-8c07-d890e8e5ad42",
   "metadata": {},
   "outputs": [],
   "source": [
    "y_pred = m.predict(X_dists_test)\n",
    "y_proba = m.predict_proba(X_dists_test)"
   ]
  },
  {
   "cell_type": "code",
   "execution_count": 21,
   "id": "8c92c0c6-d0f8-43ad-a2dc-5f2ccc7190c0",
   "metadata": {},
   "outputs": [],
   "source": [
    "y_pred = y_pred.todense()\n",
    "y_pred = y_pred.A\n",
    "y_proba = y_proba.todense()\n",
    "y_proba = y_proba.A"
   ]
  },
  {
   "cell_type": "code",
   "execution_count": 23,
   "id": "4e1b4d19-6676-4e3f-a28b-28828d94403e",
   "metadata": {},
   "outputs": [
    {
     "data": {
      "text/plain": [
       "3432"
      ]
     },
     "execution_count": 23,
     "metadata": {},
     "output_type": "execute_result"
    }
   ],
   "source": [
    "y_pred.sum()"
   ]
  },
  {
   "cell_type": "code",
   "execution_count": 25,
   "id": "1d98dab1-4a0e-4eef-8f0a-f820b8ba1b7f",
   "metadata": {},
   "outputs": [
    {
     "data": {
      "text/plain": [
       "(449, 2701)"
      ]
     },
     "execution_count": 25,
     "metadata": {},
     "output_type": "execute_result"
    }
   ],
   "source": [
    "y_proba.shape"
   ]
  },
  {
   "cell_type": "code",
   "execution_count": 26,
   "id": "7c8ba941-36b5-4b63-ace5-18160749f41c",
   "metadata": {},
   "outputs": [
    {
     "data": {
      "text/plain": [
       "(449, 2701)"
      ]
     },
     "execution_count": 26,
     "metadata": {},
     "output_type": "execute_result"
    }
   ],
   "source": [
    "y_test.shape"
   ]
  },
  {
   "cell_type": "code",
   "execution_count": 28,
   "id": "66275579-6d35-4e84-a5ad-3be19eb5f0e9",
   "metadata": {},
   "outputs": [],
   "source": [
    "information_content = pd.read_table(os.path.join(data_dir, '83333', 'uppropagated-annotations.IC'))"
   ]
  },
  {
   "cell_type": "code",
   "execution_count": 32,
   "id": "241158bc-1a7f-453e-b85a-35e234fe3dea",
   "metadata": {},
   "outputs": [],
   "source": [
    "information_content.set_index('goterm', inplace=True)"
   ]
  },
  {
   "cell_type": "code",
   "execution_count": 42,
   "id": "fdb065e8-cc09-42ae-871a-197182b4bbe2",
   "metadata": {},
   "outputs": [],
   "source": [
    "ic_sorted = information_content.loc[classes].values.flatten()"
   ]
  },
  {
   "cell_type": "code",
   "execution_count": 45,
   "id": "3c0597ec-7f4a-4892-972c-19669a88c2dc",
   "metadata": {},
   "outputs": [
    {
     "data": {
      "text/plain": [
       "array([12.55013846, 14.31567321, 16.6376013 , ..., 16.6376013 ,\n",
       "       16.6376013 , 16.6376013 ])"
      ]
     },
     "execution_count": 45,
     "metadata": {},
     "output_type": "execute_result"
    }
   ],
   "source": [
    "ic_sorted"
   ]
  },
  {
   "cell_type": "code",
   "execution_count": 52,
   "id": "b8842fd4-422d-43da-be75-e21ba134731d",
   "metadata": {},
   "outputs": [],
   "source": [
    "from evaluation.metrics import get_metrics"
   ]
  },
  {
   "cell_type": "code",
   "execution_count": 53,
   "id": "f909969b-eba6-4035-bfbf-858e0eb2c4a9",
   "metadata": {},
   "outputs": [
    {
     "data": {
      "application/vnd.jupyter.widget-view+json": {
       "model_id": "06a3add85ecb4242a71503f2163b3dd9",
       "version_major": 2,
       "version_minor": 0
      },
      "text/plain": [
       "Output()"
      ]
     },
     "metadata": {},
     "output_type": "display_data"
    },
    {
     "data": {
      "text/html": [
       "<pre style=\"white-space:pre;overflow-x:auto;line-height:normal;font-family:Menlo,'DejaVu Sans Mono',consolas,'Courier New',monospace\">\n",
       "</pre>\n"
      ],
      "text/plain": [
       "\n"
      ]
     },
     "metadata": {},
     "output_type": "display_data"
    },
    {
     "data": {
      "application/vnd.jupyter.widget-view+json": {
       "model_id": "2d5604152256462db025ce40b38b07f0",
       "version_major": 2,
       "version_minor": 0
      },
      "text/plain": [
       "Output()"
      ]
     },
     "metadata": {},
     "output_type": "display_data"
    },
    {
     "data": {
      "text/html": [
       "<pre style=\"white-space:pre;overflow-x:auto;line-height:normal;font-family:Menlo,'DejaVu Sans Mono',consolas,'Courier New',monospace\">\n",
       "</pre>\n"
      ],
      "text/plain": [
       "\n"
      ]
     },
     "metadata": {},
     "output_type": "display_data"
    }
   ],
   "source": [
    "metrics = get_metrics(y_test, y_proba, ic_sorted)"
   ]
  },
  {
   "cell_type": "code",
   "execution_count": 59,
   "id": "5c23bcef-2189-427b-87ed-00d7f28fab8d",
   "metadata": {},
   "outputs": [
    {
     "data": {
      "text/plain": [
       "Index(['tp', 'fp', 'tn', 'fn', 'qty_pos', 'qty_neg', 'rec', 'pre', 'f_max',\n",
       "       'fpr', 'tpr', 'auc_roc', 'auc_pr', 'ru', 'mi', 's', 's_min',\n",
       "       'metric_type'],\n",
       "      dtype='object')"
      ]
     },
     "execution_count": 59,
     "metadata": {},
     "output_type": "execute_result"
    }
   ],
   "source": [
    "metrics.columns"
   ]
  },
  {
   "cell_type": "code",
   "execution_count": 60,
   "id": "bc1abaa4-dd3c-49c0-86fa-bc3e2f492379",
   "metadata": {},
   "outputs": [],
   "source": [
    "eval_metrics = ['f_max', 's_min', 'auc_roc', 'auc_pr']\n",
    "evaluation = metrics[eval_metrics + ['metric_type']]"
   ]
  },
  {
   "cell_type": "code",
   "execution_count": 62,
   "id": "618a11a1-8345-4520-8c74-0b4d6f12042b",
   "metadata": {},
   "outputs": [
    {
     "data": {
      "text/html": [
       "<div>\n",
       "<style scoped>\n",
       "    .dataframe tbody tr th:only-of-type {\n",
       "        vertical-align: middle;\n",
       "    }\n",
       "\n",
       "    .dataframe tbody tr th {\n",
       "        vertical-align: top;\n",
       "    }\n",
       "\n",
       "    .dataframe thead th {\n",
       "        text-align: right;\n",
       "    }\n",
       "</style>\n",
       "<table border=\"1\" class=\"dataframe\">\n",
       "  <thead>\n",
       "    <tr style=\"text-align: right;\">\n",
       "      <th></th>\n",
       "      <th>f_max</th>\n",
       "      <th>s_min</th>\n",
       "      <th>auc_roc</th>\n",
       "      <th>auc_pr</th>\n",
       "    </tr>\n",
       "    <tr>\n",
       "      <th>metric_type</th>\n",
       "      <th></th>\n",
       "      <th></th>\n",
       "      <th></th>\n",
       "      <th></th>\n",
       "    </tr>\n",
       "  </thead>\n",
       "  <tbody>\n",
       "    <tr>\n",
       "      <th>per_gene</th>\n",
       "      <td>0.403988</td>\n",
       "      <td>0.075490</td>\n",
       "      <td>0.898086</td>\n",
       "      <td>0.262003</td>\n",
       "    </tr>\n",
       "    <tr>\n",
       "      <th>per_term</th>\n",
       "      <td>0.025889</td>\n",
       "      <td>13.260362</td>\n",
       "      <td>0.332300</td>\n",
       "      <td>0.007022</td>\n",
       "    </tr>\n",
       "  </tbody>\n",
       "</table>\n",
       "</div>"
      ],
      "text/plain": [
       "                f_max      s_min   auc_roc    auc_pr\n",
       "metric_type                                         \n",
       "per_gene     0.403988   0.075490  0.898086  0.262003\n",
       "per_term     0.025889  13.260362  0.332300  0.007022"
      ]
     },
     "execution_count": 62,
     "metadata": {},
     "output_type": "execute_result"
    }
   ],
   "source": [
    "evaluation.groupby('metric_type').mean()"
   ]
  },
  {
   "cell_type": "code",
   "execution_count": null,
   "id": "1becef49-141a-4354-970a-2451aee382f3",
   "metadata": {},
   "outputs": [],
   "source": []
  }
 ],
 "metadata": {
  "kernelspec": {
   "display_name": "Python 3 (ipykernel)",
   "language": "python",
   "name": "python3"
  },
  "language_info": {
   "codemirror_mode": {
    "name": "ipython",
    "version": 3
   },
   "file_extension": ".py",
   "mimetype": "text/x-python",
   "name": "python",
   "nbconvert_exporter": "python",
   "pygments_lexer": "ipython3",
   "version": "3.9.1"
  }
 },
 "nbformat": 4,
 "nbformat_minor": 5
}
