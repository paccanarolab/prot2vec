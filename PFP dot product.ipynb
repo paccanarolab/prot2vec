{
 "cells": [
  {
   "cell_type": "code",
   "execution_count": 1,
   "id": "9896bb3b-fb4e-4de3-850b-20806b6ad741",
   "metadata": {},
   "outputs": [],
   "source": [
    "import numpy as np\n",
    "import pandas as pd\n",
    "import matplotlib.pyplot as plt\n",
    "import seaborn as sns\n",
    "import os\n",
    "from scipy.spatial.distance import pdist, squareform\n",
    "from Utils import Configuration\n",
    "from models import SiameseSimilarityMultiTask\n",
    "from tools.datasets import FastMultitaskSemanticSimilarityDataset"
   ]
  },
  {
   "cell_type": "code",
   "execution_count": 9,
   "id": "7bfba88c-d7b7-4df6-9559-d2a72d57d150",
   "metadata": {},
   "outputs": [],
   "source": [
    "data_dir = \"/Users/torresmateo/OneDrive - FGV/prot2vec\"\n",
    "if os.name == 'nt':\n",
    "    data_dir = \"E:/prot2vec\"\n",
    "    "
   ]
  },
  {
   "cell_type": "code",
   "execution_count": 2,
   "id": "65fbb5fc-715f-4e69-8fb6-c9ed58b650d2",
   "metadata": {},
   "outputs": [],
   "source": [
    "config = Configuration.load_run(\"run-all_cafa3.ini\")"
   ]
  },
  {
   "cell_type": "code",
   "execution_count": 3,
   "id": "96a38351-0396-426c-bee4-9c40f47ddbe8",
   "metadata": {},
   "outputs": [
    {
     "data": {
      "text/plain": [
       "{'configuration': {'config_file': 'config.ini'},\n",
       " 'model': {'dir_model_output': 'E:/prot2vec',\n",
       "  'batch_size_train': 256,\n",
       "  'batch_size_val': 256,\n",
       "  'batch_size_test': 256,\n",
       "  'dim_first_hidden_layer': 1024,\n",
       "  'alias': 'cafa3.pt'},\n",
       " 'training': {'dir_training_out': 'E:/prot2vec',\n",
       "  'num_epochs': 1,\n",
       "  'output_debug': False},\n",
       " 'dataset': {'dir_train': '../CAFA3_P2V/train_data/',\n",
       "  'dir_val': '../CAFA3_P2V/val_data/',\n",
       "  'dir_test': '../CAFA3_P2V/test_data/',\n",
       "  'string_columns': [''],\n",
       "  'negative_sampling': False,\n",
       "  'combine_string': False,\n",
       "  'include_homology': False,\n",
       "  'include_biogrid': False},\n",
       " 'representations': {'dir_representations_out': 'E:/prot2vec'},\n",
       " 'optimizer': {'learning_rate': 0.0006},\n",
       " 'loss': {'main_task_factor': 1.0}}"
      ]
     },
     "execution_count": 3,
     "metadata": {},
     "output_type": "execute_result"
    }
   ],
   "source": [
    "config"
   ]
  },
  {
   "cell_type": "code",
   "execution_count": 4,
   "id": "a3045c39-edb3-48ca-ab20-799ba2ef5ba6",
   "metadata": {},
   "outputs": [
    {
     "data": {
      "text/plain": [
       "256"
      ]
     },
     "execution_count": 4,
     "metadata": {},
     "output_type": "execute_result"
    }
   ],
   "source": [
    "config[\"model\"][\"dim_first_hidden_layer\"] // 4"
   ]
  },
  {
   "cell_type": "code",
   "execution_count": 5,
   "id": "89f933da-c312-44e1-98fb-79de028126cb",
   "metadata": {},
   "outputs": [],
   "source": [
    "dim = config[\"model\"][\"dim_first_hidden_layer\"]\n",
    "activation = 'sigmoid'\n",
    "model_filename =  f\"{config['model']['alias']}-representations.pkl\"\n",
    "model_name = f\"{config['model']['alias']}-{dim}\"\n",
    "vecs = pd.read_pickle(os.path.join(config[\"representations\"][\"dir_representations_out\"], model_filename))\n",
    "features = [f'prot2vec_{i}' for i in range(dim//2//2)]\n",
    "vecs = pd.concat([vecs, pd.DataFrame(vecs['vector'].to_list(), index=vecs.index, columns = features)], axis=1)\n",
    "vecs = vecs[['protein', 'set'] + features]"
   ]
  },
  {
   "cell_type": "code",
   "execution_count": 16,
   "id": "60f75f3a-9269-4fcd-8b4f-43179fd19f6f",
   "metadata": {},
   "outputs": [],
   "source": [
    "annotations = pd.read_table(os.path.join(data_dir, 'ALL_GOA', 'uppropagated-annotations.BP'))\n",
    "annotations.columns = ['protein', 'goterm']\n",
    "annotations = annotations.merge(vecs[['protein', 'set']])"
   ]
  },
  {
   "cell_type": "code",
   "execution_count": 17,
   "id": "23a7dab4-9529-4f98-b5d6-74c4e89db7ca",
   "metadata": {},
   "outputs": [
    {
     "data": {
      "text/plain": [
       "(76273,)"
      ]
     },
     "execution_count": 17,
     "metadata": {},
     "output_type": "execute_result"
    }
   ],
   "source": [
    "annotations.protein.unique().shape"
   ]
  },
  {
   "cell_type": "code",
   "execution_count": 20,
   "id": "3ae89bd2-6d2c-414d-b245-603553604e9f",
   "metadata": {},
   "outputs": [],
   "source": [
    "condition = annotations['set'].isin(['train', 'validation'])\n",
    "y = annotations[['protein', 'goterm']].drop_duplicates()\n",
    "y['value'] = 1\n",
    "y = y.pivot('protein', 'goterm', 'value').fillna(0).reset_index()"
   ]
  },
  {
   "cell_type": "code",
   "execution_count": 21,
   "id": "8e03c4fb-8e2c-40b2-bd59-e234dd92f2b1",
   "metadata": {},
   "outputs": [],
   "source": [
    "classes = y.columns[~y.columns.isin(['protein'])].to_numpy()"
   ]
  },
  {
   "cell_type": "code",
   "execution_count": 22,
   "id": "c1cddf15-e1d7-4c39-ad65-c43fe5a4cb7b",
   "metadata": {},
   "outputs": [],
   "source": [
    "dataset = vecs.merge(y)"
   ]
  },
  {
   "cell_type": "code",
   "execution_count": 23,
   "id": "b3cecd1c-52fd-42eb-a3a9-70870ba7753d",
   "metadata": {},
   "outputs": [
    {
     "data": {
      "text/html": [
       "<div>\n",
       "<style scoped>\n",
       "    .dataframe tbody tr th:only-of-type {\n",
       "        vertical-align: middle;\n",
       "    }\n",
       "\n",
       "    .dataframe tbody tr th {\n",
       "        vertical-align: top;\n",
       "    }\n",
       "\n",
       "    .dataframe thead th {\n",
       "        text-align: right;\n",
       "    }\n",
       "</style>\n",
       "<table border=\"1\" class=\"dataframe\">\n",
       "  <thead>\n",
       "    <tr style=\"text-align: right;\">\n",
       "      <th></th>\n",
       "      <th>protein</th>\n",
       "      <th>set</th>\n",
       "      <th>prot2vec_0</th>\n",
       "      <th>prot2vec_1</th>\n",
       "      <th>prot2vec_2</th>\n",
       "      <th>prot2vec_3</th>\n",
       "      <th>prot2vec_4</th>\n",
       "      <th>prot2vec_5</th>\n",
       "      <th>prot2vec_6</th>\n",
       "      <th>prot2vec_7</th>\n",
       "      <th>...</th>\n",
       "      <th>GO:2001305</th>\n",
       "      <th>GO:2001306</th>\n",
       "      <th>GO:2001307</th>\n",
       "      <th>GO:2001308</th>\n",
       "      <th>GO:2001310</th>\n",
       "      <th>GO:2001311</th>\n",
       "      <th>GO:2001313</th>\n",
       "      <th>GO:2001315</th>\n",
       "      <th>GO:2001316</th>\n",
       "      <th>GO:2001317</th>\n",
       "    </tr>\n",
       "  </thead>\n",
       "  <tbody>\n",
       "    <tr>\n",
       "      <th>0</th>\n",
       "      <td>A0A023GU64</td>\n",
       "      <td>test</td>\n",
       "      <td>2.667749e-31</td>\n",
       "      <td>2.780357e-11</td>\n",
       "      <td>0.00000</td>\n",
       "      <td>1.569273e-12</td>\n",
       "      <td>1.177834e-08</td>\n",
       "      <td>5.657134e-07</td>\n",
       "      <td>2.552805e-19</td>\n",
       "      <td>1.739988e-12</td>\n",
       "      <td>...</td>\n",
       "      <td>0.0</td>\n",
       "      <td>0.0</td>\n",
       "      <td>0.0</td>\n",
       "      <td>0.0</td>\n",
       "      <td>0.0</td>\n",
       "      <td>0.0</td>\n",
       "      <td>0.0</td>\n",
       "      <td>0.0</td>\n",
       "      <td>0.0</td>\n",
       "      <td>0.0</td>\n",
       "    </tr>\n",
       "    <tr>\n",
       "      <th>1</th>\n",
       "      <td>A0A023GU65</td>\n",
       "      <td>test</td>\n",
       "      <td>3.026786e-31</td>\n",
       "      <td>3.550783e-11</td>\n",
       "      <td>0.00000</td>\n",
       "      <td>7.737678e-13</td>\n",
       "      <td>1.337096e-08</td>\n",
       "      <td>5.860259e-07</td>\n",
       "      <td>9.415314e-20</td>\n",
       "      <td>7.810482e-13</td>\n",
       "      <td>...</td>\n",
       "      <td>0.0</td>\n",
       "      <td>0.0</td>\n",
       "      <td>0.0</td>\n",
       "      <td>0.0</td>\n",
       "      <td>0.0</td>\n",
       "      <td>0.0</td>\n",
       "      <td>0.0</td>\n",
       "      <td>0.0</td>\n",
       "      <td>0.0</td>\n",
       "      <td>0.0</td>\n",
       "    </tr>\n",
       "    <tr>\n",
       "      <th>2</th>\n",
       "      <td>A0A024B5K5</td>\n",
       "      <td>test</td>\n",
       "      <td>5.284970e-23</td>\n",
       "      <td>1.425604e-03</td>\n",
       "      <td>0.00001</td>\n",
       "      <td>0.000000e+00</td>\n",
       "      <td>0.000000e+00</td>\n",
       "      <td>3.136460e-34</td>\n",
       "      <td>2.521598e-10</td>\n",
       "      <td>1.405605e-05</td>\n",
       "      <td>...</td>\n",
       "      <td>0.0</td>\n",
       "      <td>0.0</td>\n",
       "      <td>0.0</td>\n",
       "      <td>0.0</td>\n",
       "      <td>0.0</td>\n",
       "      <td>0.0</td>\n",
       "      <td>0.0</td>\n",
       "      <td>0.0</td>\n",
       "      <td>0.0</td>\n",
       "      <td>0.0</td>\n",
       "    </tr>\n",
       "    <tr>\n",
       "      <th>3</th>\n",
       "      <td>A0A024B5K5</td>\n",
       "      <td>train</td>\n",
       "      <td>5.284970e-23</td>\n",
       "      <td>1.425604e-03</td>\n",
       "      <td>0.00001</td>\n",
       "      <td>0.000000e+00</td>\n",
       "      <td>0.000000e+00</td>\n",
       "      <td>3.136460e-34</td>\n",
       "      <td>2.521598e-10</td>\n",
       "      <td>1.405605e-05</td>\n",
       "      <td>...</td>\n",
       "      <td>0.0</td>\n",
       "      <td>0.0</td>\n",
       "      <td>0.0</td>\n",
       "      <td>0.0</td>\n",
       "      <td>0.0</td>\n",
       "      <td>0.0</td>\n",
       "      <td>0.0</td>\n",
       "      <td>0.0</td>\n",
       "      <td>0.0</td>\n",
       "      <td>0.0</td>\n",
       "    </tr>\n",
       "    <tr>\n",
       "      <th>4</th>\n",
       "      <td>A0A026W182</td>\n",
       "      <td>test</td>\n",
       "      <td>3.423091e-17</td>\n",
       "      <td>1.525723e-05</td>\n",
       "      <td>0.00000</td>\n",
       "      <td>0.000000e+00</td>\n",
       "      <td>0.000000e+00</td>\n",
       "      <td>7.428209e-27</td>\n",
       "      <td>7.705631e-20</td>\n",
       "      <td>2.775723e-09</td>\n",
       "      <td>...</td>\n",
       "      <td>0.0</td>\n",
       "      <td>0.0</td>\n",
       "      <td>0.0</td>\n",
       "      <td>0.0</td>\n",
       "      <td>0.0</td>\n",
       "      <td>0.0</td>\n",
       "      <td>0.0</td>\n",
       "      <td>0.0</td>\n",
       "      <td>0.0</td>\n",
       "      <td>0.0</td>\n",
       "    </tr>\n",
       "    <tr>\n",
       "      <th>...</th>\n",
       "      <td>...</td>\n",
       "      <td>...</td>\n",
       "      <td>...</td>\n",
       "      <td>...</td>\n",
       "      <td>...</td>\n",
       "      <td>...</td>\n",
       "      <td>...</td>\n",
       "      <td>...</td>\n",
       "      <td>...</td>\n",
       "      <td>...</td>\n",
       "      <td>...</td>\n",
       "      <td>...</td>\n",
       "      <td>...</td>\n",
       "      <td>...</td>\n",
       "      <td>...</td>\n",
       "      <td>...</td>\n",
       "      <td>...</td>\n",
       "      <td>...</td>\n",
       "      <td>...</td>\n",
       "      <td>...</td>\n",
       "      <td>...</td>\n",
       "    </tr>\n",
       "    <tr>\n",
       "      <th>83474</th>\n",
       "      <td>X2JL00</td>\n",
       "      <td>validation</td>\n",
       "      <td>1.440266e-34</td>\n",
       "      <td>2.255963e-09</td>\n",
       "      <td>0.00000</td>\n",
       "      <td>2.351480e-23</td>\n",
       "      <td>2.987507e-10</td>\n",
       "      <td>4.556970e-09</td>\n",
       "      <td>1.697986e-21</td>\n",
       "      <td>3.971534e-11</td>\n",
       "      <td>...</td>\n",
       "      <td>0.0</td>\n",
       "      <td>0.0</td>\n",
       "      <td>0.0</td>\n",
       "      <td>0.0</td>\n",
       "      <td>0.0</td>\n",
       "      <td>0.0</td>\n",
       "      <td>0.0</td>\n",
       "      <td>0.0</td>\n",
       "      <td>0.0</td>\n",
       "      <td>0.0</td>\n",
       "    </tr>\n",
       "    <tr>\n",
       "      <th>83475</th>\n",
       "      <td>X2JL40</td>\n",
       "      <td>validation</td>\n",
       "      <td>1.231840e-19</td>\n",
       "      <td>1.165963e-05</td>\n",
       "      <td>0.00000</td>\n",
       "      <td>0.000000e+00</td>\n",
       "      <td>0.000000e+00</td>\n",
       "      <td>8.358458e-26</td>\n",
       "      <td>2.119253e-12</td>\n",
       "      <td>3.883319e-10</td>\n",
       "      <td>...</td>\n",
       "      <td>0.0</td>\n",
       "      <td>0.0</td>\n",
       "      <td>0.0</td>\n",
       "      <td>0.0</td>\n",
       "      <td>0.0</td>\n",
       "      <td>0.0</td>\n",
       "      <td>0.0</td>\n",
       "      <td>0.0</td>\n",
       "      <td>0.0</td>\n",
       "      <td>0.0</td>\n",
       "    </tr>\n",
       "    <tr>\n",
       "      <th>83476</th>\n",
       "      <td>X2KN52</td>\n",
       "      <td>validation</td>\n",
       "      <td>8.190788e-34</td>\n",
       "      <td>1.596471e-04</td>\n",
       "      <td>0.00000</td>\n",
       "      <td>5.626393e-26</td>\n",
       "      <td>1.872001e-20</td>\n",
       "      <td>1.858104e-15</td>\n",
       "      <td>9.102062e-28</td>\n",
       "      <td>6.030520e-05</td>\n",
       "      <td>...</td>\n",
       "      <td>0.0</td>\n",
       "      <td>0.0</td>\n",
       "      <td>0.0</td>\n",
       "      <td>0.0</td>\n",
       "      <td>0.0</td>\n",
       "      <td>0.0</td>\n",
       "      <td>0.0</td>\n",
       "      <td>0.0</td>\n",
       "      <td>0.0</td>\n",
       "      <td>0.0</td>\n",
       "    </tr>\n",
       "    <tr>\n",
       "      <th>83477</th>\n",
       "      <td>X5KCU9</td>\n",
       "      <td>validation</td>\n",
       "      <td>4.437212e-34</td>\n",
       "      <td>4.619162e-05</td>\n",
       "      <td>0.00000</td>\n",
       "      <td>0.000000e+00</td>\n",
       "      <td>0.000000e+00</td>\n",
       "      <td>9.173405e-15</td>\n",
       "      <td>9.144851e-17</td>\n",
       "      <td>2.912326e-12</td>\n",
       "      <td>...</td>\n",
       "      <td>0.0</td>\n",
       "      <td>0.0</td>\n",
       "      <td>0.0</td>\n",
       "      <td>0.0</td>\n",
       "      <td>0.0</td>\n",
       "      <td>0.0</td>\n",
       "      <td>0.0</td>\n",
       "      <td>0.0</td>\n",
       "      <td>0.0</td>\n",
       "      <td>0.0</td>\n",
       "    </tr>\n",
       "    <tr>\n",
       "      <th>83478</th>\n",
       "      <td>X5L1L5</td>\n",
       "      <td>validation</td>\n",
       "      <td>8.135961e-16</td>\n",
       "      <td>8.785500e-05</td>\n",
       "      <td>0.00000</td>\n",
       "      <td>0.000000e+00</td>\n",
       "      <td>0.000000e+00</td>\n",
       "      <td>2.051258e-28</td>\n",
       "      <td>4.108378e-12</td>\n",
       "      <td>1.964790e-06</td>\n",
       "      <td>...</td>\n",
       "      <td>0.0</td>\n",
       "      <td>0.0</td>\n",
       "      <td>0.0</td>\n",
       "      <td>0.0</td>\n",
       "      <td>0.0</td>\n",
       "      <td>0.0</td>\n",
       "      <td>0.0</td>\n",
       "      <td>0.0</td>\n",
       "      <td>0.0</td>\n",
       "      <td>0.0</td>\n",
       "    </tr>\n",
       "  </tbody>\n",
       "</table>\n",
       "<p>83479 rows × 21453 columns</p>\n",
       "</div>"
      ],
      "text/plain": [
       "          protein         set    prot2vec_0    prot2vec_1  prot2vec_2  \\\n",
       "0      A0A023GU64        test  2.667749e-31  2.780357e-11     0.00000   \n",
       "1      A0A023GU65        test  3.026786e-31  3.550783e-11     0.00000   \n",
       "2      A0A024B5K5        test  5.284970e-23  1.425604e-03     0.00001   \n",
       "3      A0A024B5K5       train  5.284970e-23  1.425604e-03     0.00001   \n",
       "4      A0A026W182        test  3.423091e-17  1.525723e-05     0.00000   \n",
       "...           ...         ...           ...           ...         ...   \n",
       "83474      X2JL00  validation  1.440266e-34  2.255963e-09     0.00000   \n",
       "83475      X2JL40  validation  1.231840e-19  1.165963e-05     0.00000   \n",
       "83476      X2KN52  validation  8.190788e-34  1.596471e-04     0.00000   \n",
       "83477      X5KCU9  validation  4.437212e-34  4.619162e-05     0.00000   \n",
       "83478      X5L1L5  validation  8.135961e-16  8.785500e-05     0.00000   \n",
       "\n",
       "         prot2vec_3    prot2vec_4    prot2vec_5    prot2vec_6    prot2vec_7  \\\n",
       "0      1.569273e-12  1.177834e-08  5.657134e-07  2.552805e-19  1.739988e-12   \n",
       "1      7.737678e-13  1.337096e-08  5.860259e-07  9.415314e-20  7.810482e-13   \n",
       "2      0.000000e+00  0.000000e+00  3.136460e-34  2.521598e-10  1.405605e-05   \n",
       "3      0.000000e+00  0.000000e+00  3.136460e-34  2.521598e-10  1.405605e-05   \n",
       "4      0.000000e+00  0.000000e+00  7.428209e-27  7.705631e-20  2.775723e-09   \n",
       "...             ...           ...           ...           ...           ...   \n",
       "83474  2.351480e-23  2.987507e-10  4.556970e-09  1.697986e-21  3.971534e-11   \n",
       "83475  0.000000e+00  0.000000e+00  8.358458e-26  2.119253e-12  3.883319e-10   \n",
       "83476  5.626393e-26  1.872001e-20  1.858104e-15  9.102062e-28  6.030520e-05   \n",
       "83477  0.000000e+00  0.000000e+00  9.173405e-15  9.144851e-17  2.912326e-12   \n",
       "83478  0.000000e+00  0.000000e+00  2.051258e-28  4.108378e-12  1.964790e-06   \n",
       "\n",
       "       ...  GO:2001305  GO:2001306  GO:2001307  GO:2001308  GO:2001310  \\\n",
       "0      ...         0.0         0.0         0.0         0.0         0.0   \n",
       "1      ...         0.0         0.0         0.0         0.0         0.0   \n",
       "2      ...         0.0         0.0         0.0         0.0         0.0   \n",
       "3      ...         0.0         0.0         0.0         0.0         0.0   \n",
       "4      ...         0.0         0.0         0.0         0.0         0.0   \n",
       "...    ...         ...         ...         ...         ...         ...   \n",
       "83474  ...         0.0         0.0         0.0         0.0         0.0   \n",
       "83475  ...         0.0         0.0         0.0         0.0         0.0   \n",
       "83476  ...         0.0         0.0         0.0         0.0         0.0   \n",
       "83477  ...         0.0         0.0         0.0         0.0         0.0   \n",
       "83478  ...         0.0         0.0         0.0         0.0         0.0   \n",
       "\n",
       "       GO:2001311  GO:2001313  GO:2001315  GO:2001316  GO:2001317  \n",
       "0             0.0         0.0         0.0         0.0         0.0  \n",
       "1             0.0         0.0         0.0         0.0         0.0  \n",
       "2             0.0         0.0         0.0         0.0         0.0  \n",
       "3             0.0         0.0         0.0         0.0         0.0  \n",
       "4             0.0         0.0         0.0         0.0         0.0  \n",
       "...           ...         ...         ...         ...         ...  \n",
       "83474         0.0         0.0         0.0         0.0         0.0  \n",
       "83475         0.0         0.0         0.0         0.0         0.0  \n",
       "83476         0.0         0.0         0.0         0.0         0.0  \n",
       "83477         0.0         0.0         0.0         0.0         0.0  \n",
       "83478         0.0         0.0         0.0         0.0         0.0  \n",
       "\n",
       "[83479 rows x 21453 columns]"
      ]
     },
     "execution_count": 23,
     "metadata": {},
     "output_type": "execute_result"
    }
   ],
   "source": [
    "dataset"
   ]
  },
  {
   "cell_type": "code",
   "execution_count": 24,
   "id": "a1fc67be-c57d-4965-8bec-37a9c13d744b",
   "metadata": {},
   "outputs": [],
   "source": [
    "distances = squareform(pdist(np.stack(dataset[features].values), metric='cosine'))"
   ]
  },
  {
   "cell_type": "code",
   "execution_count": 25,
   "id": "ae8d4ba7-dc36-4dda-9f7c-ed22fa00566f",
   "metadata": {},
   "outputs": [],
   "source": [
    "X_dists_train = distances[dataset['set'].isin(['train', 'validation']),:][:,dataset['set'].isin(['train', 'validation'])]"
   ]
  },
  {
   "cell_type": "code",
   "execution_count": 26,
   "id": "f55de704-d9e8-4eab-a7d9-0d42253190be",
   "metadata": {},
   "outputs": [],
   "source": [
    "X_dists_test = distances[dataset['set'].isin(['test']),:][:,dataset['set'].isin(['train', 'validation'])]"
   ]
  },
  {
   "cell_type": "code",
   "execution_count": 27,
   "id": "a4da53cc-b5bc-422f-8279-97154c1dd31f",
   "metadata": {},
   "outputs": [
    {
     "data": {
      "text/plain": [
       "((72741, 72741), (10738, 72741))"
      ]
     },
     "execution_count": 27,
     "metadata": {},
     "output_type": "execute_result"
    }
   ],
   "source": [
    "X_dists_train.shape, X_dists_test.shape"
   ]
  },
  {
   "cell_type": "code",
   "execution_count": 28,
   "id": "0b40b250-ea85-4d51-9d35-3ef6283d53b9",
   "metadata": {},
   "outputs": [],
   "source": [
    "condition = dataset['set'].isin(['train', 'validation'])\n",
    "X_train = dataset[condition][features].values\n",
    "y_train = dataset[condition][classes].values.astype(int)\n",
    "X_test = dataset[~condition][features].values\n",
    "y_test = dataset[~condition][classes].values.astype(int)"
   ]
  },
  {
   "cell_type": "code",
   "execution_count": 29,
   "id": "6d6ad279-c485-4815-bd8c-17be5acf456d",
   "metadata": {},
   "outputs": [
    {
     "data": {
      "text/plain": [
       "((72741, 256), (10738, 256), (72741, 21195), (10738, 21195))"
      ]
     },
     "execution_count": 29,
     "metadata": {},
     "output_type": "execute_result"
    }
   ],
   "source": [
    "X_train.shape, X_test.shape, y_train.shape, y_test.shape"
   ]
  },
  {
   "cell_type": "code",
   "execution_count": 30,
   "id": "12ef68e2-652f-4c50-95c0-233ee958bdca",
   "metadata": {},
   "outputs": [],
   "source": [
    "from models import MultiLabelKNeighborsClassifier\n",
    "from evaluation.metrics import get_metrics"
   ]
  },
  {
   "cell_type": "code",
   "execution_count": null,
   "id": "50a90a59-b586-44b5-b0fe-d2f362341c0c",
   "metadata": {},
   "outputs": [
    {
     "data": {
      "application/vnd.jupyter.widget-view+json": {
       "model_id": "99efdd1c363844c18edecf8024c8f4d7",
       "version_major": 2,
       "version_minor": 0
      },
      "text/plain": [
       "Output()"
      ]
     },
     "metadata": {},
     "output_type": "display_data"
    }
   ],
   "source": [
    "m = MultiLabelKNeighborsClassifier(metric='precomputed', n_neighbors=1)\n",
    "m.fit(X_dists_train, y_train)\n",
    "\n",
    "y_pred = m.predict(X_dists_test)\n",
    "y_proba = m.predict_proba(X_dists_test)\n",
    "y_pred = y_pred.todense()\n",
    "y_pred = y_pred.A\n",
    "y_proba = y_proba.todense()\n",
    "y_proba = y_proba.A\n",
    "\n",
    "information_content = pd.read_table(os.path.join(data_dir, 'ALL_GOA', 'uppropagated-annotations.IC'))\n",
    "information_content.set_index('goterm', inplace=True)\n",
    "ic_sorted = information_content.loc[classes].values.flatten()\n",
    "\n",
    "metrics = get_metrics(y_test, y_proba, ic_sorted)\n",
    "\n",
    "eval_metrics = ['f_max', 's_min', 'auc_roc', 'auc_pr']\n",
    "evaluation = metrics[eval_metrics + ['metric_type']]\n",
    "ev = evaluation.groupby('metric_type').mean()\n",
    "\n",
    "ev['model'] = model_name\n",
    "evaluations = []\n",
    "evaluations.append(ev)\n",
    "df = pd.concat(evaluations)\n",
    "df"
   ]
  },
  {
   "cell_type": "code",
   "execution_count": 33,
   "id": "3322fe5e-f1ff-4ba4-a46a-aa9702c77a13",
   "metadata": {},
   "outputs": [
    {
     "data": {
      "text/html": [
       "<div>\n",
       "<style scoped>\n",
       "    .dataframe tbody tr th:only-of-type {\n",
       "        vertical-align: middle;\n",
       "    }\n",
       "\n",
       "    .dataframe tbody tr th {\n",
       "        vertical-align: top;\n",
       "    }\n",
       "\n",
       "    .dataframe thead th {\n",
       "        text-align: right;\n",
       "    }\n",
       "</style>\n",
       "<table border=\"1\" class=\"dataframe\">\n",
       "  <thead>\n",
       "    <tr style=\"text-align: right;\">\n",
       "      <th></th>\n",
       "      <th>f_max</th>\n",
       "      <th>s_min</th>\n",
       "      <th>auc_roc</th>\n",
       "      <th>auc_pr</th>\n",
       "      <th>model</th>\n",
       "    </tr>\n",
       "    <tr>\n",
       "      <th>metric_type</th>\n",
       "      <th></th>\n",
       "      <th></th>\n",
       "      <th></th>\n",
       "      <th></th>\n",
       "      <th></th>\n",
       "    </tr>\n",
       "  </thead>\n",
       "  <tbody>\n",
       "    <tr>\n",
       "      <th>per_gene</th>\n",
       "      <td>0.373943</td>\n",
       "      <td>0.027254</td>\n",
       "      <td>0.954017</td>\n",
       "      <td>0.260700</td>\n",
       "      <td>cafa3.pt-1024</td>\n",
       "    </tr>\n",
       "    <tr>\n",
       "      <th>per_term</th>\n",
       "      <td>0.031308</td>\n",
       "      <td>17.290696</td>\n",
       "      <td>0.273233</td>\n",
       "      <td>0.005016</td>\n",
       "      <td>cafa3.pt-1024</td>\n",
       "    </tr>\n",
       "  </tbody>\n",
       "</table>\n",
       "</div>"
      ],
      "text/plain": [
       "                f_max      s_min   auc_roc    auc_pr          model\n",
       "metric_type                                                        \n",
       "per_gene     0.373943   0.027254  0.954017  0.260700  cafa3.pt-1024\n",
       "per_term     0.031308  17.290696  0.273233  0.005016  cafa3.pt-1024"
      ]
     },
     "execution_count": 33,
     "metadata": {},
     "output_type": "execute_result"
    }
   ],
   "source": [
    "df"
   ]
  },
  {
   "cell_type": "code",
   "execution_count": 45,
   "id": "4090e350-232b-40cc-aef6-554ae04386e9",
   "metadata": {},
   "outputs": [
    {
     "data": {
      "text/plain": [
       "(10738, 21195)"
      ]
     },
     "execution_count": 45,
     "metadata": {},
     "output_type": "execute_result"
    }
   ],
   "source": [
    "y_test.shape"
   ]
  },
  {
   "cell_type": "code",
   "execution_count": 47,
   "id": "f190e9d7-a0bc-49d9-8eae-18ba9e114a11",
   "metadata": {},
   "outputs": [
    {
     "data": {
      "text/plain": [
       "(10738, 21195)"
      ]
     },
     "execution_count": 47,
     "metadata": {},
     "output_type": "execute_result"
    }
   ],
   "source": [
    "y_pred.shape"
   ]
  },
  {
   "cell_type": "code",
   "execution_count": 37,
   "id": "dfd4e696-5b44-4c99-aed3-7237da282e99",
   "metadata": {},
   "outputs": [],
   "source": [
    "import joblib"
   ]
  },
  {
   "cell_type": "code",
   "execution_count": 38,
   "id": "9a33d50f-92c2-466b-8c5f-ecdebb96740e",
   "metadata": {},
   "outputs": [
    {
     "data": {
      "text/plain": [
       "['NearestNeighborsCAFA3.sav']"
      ]
     },
     "execution_count": 38,
     "metadata": {},
     "output_type": "execute_result"
    }
   ],
   "source": [
    "saved_model = \"NearestNeighborsCAFA3.sav\"\n",
    "joblib.dump(m, saved_model)"
   ]
  },
  {
   "cell_type": "code",
   "execution_count": 39,
   "id": "80fa058e-c057-4832-9540-b9c357f050a3",
   "metadata": {},
   "outputs": [],
   "source": [
    "m2 = joblib.load(saved_model)"
   ]
  },
  {
   "cell_type": "code",
   "execution_count": 40,
   "id": "e5a08ae0-1219-4608-ad9b-b027ffdc562a",
   "metadata": {},
   "outputs": [],
   "source": [
    "y_pred2 = m2.predict(X_dists_test)\n"
   ]
  },
  {
   "cell_type": "code",
   "execution_count": 43,
   "id": "3233672e-e03b-45b8-b555-19f7e3d274c9",
   "metadata": {},
   "outputs": [
    {
     "data": {
      "text/plain": [
       "True"
      ]
     },
     "execution_count": 43,
     "metadata": {},
     "output_type": "execute_result"
    }
   ],
   "source": [
    "(y_pred==y_pred2).all()"
   ]
  },
  {
   "cell_type": "code",
   "execution_count": null,
   "id": "217ffe69-9873-48ad-8b5a-7d2814647365",
   "metadata": {},
   "outputs": [],
   "source": []
  }
 ],
 "metadata": {
  "kernelspec": {
   "display_name": "Python 3 (ipykernel)",
   "language": "python",
   "name": "python3"
  },
  "language_info": {
   "codemirror_mode": {
    "name": "ipython",
    "version": 3
   },
   "file_extension": ".py",
   "mimetype": "text/x-python",
   "name": "python",
   "nbconvert_exporter": "python",
   "pygments_lexer": "ipython3",
   "version": "3.9.1"
  }
 },
 "nbformat": 4,
 "nbformat_minor": 5
}
