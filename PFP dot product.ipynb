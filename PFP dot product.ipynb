{
 "cells": [
  {
   "cell_type": "code",
   "execution_count": 7,
   "id": "9896bb3b-fb4e-4de3-850b-20806b6ad741",
   "metadata": {},
   "outputs": [],
   "source": [
    "import numpy as np\n",
    "import pandas as pd\n",
    "import matplotlib.pyplot as plt\n",
    "import seaborn as sns\n",
    "import os"
   ]
  },
  {
   "cell_type": "code",
   "execution_count": 8,
   "id": "7bfba88c-d7b7-4df6-9559-d2a72d57d150",
   "metadata": {},
   "outputs": [],
   "source": [
    "data_dir = \"/Users/torresmateo/OneDrive - FGV/prot2vec\""
   ]
  },
  {
   "cell_type": "code",
   "execution_count": 9,
   "id": "89f933da-c312-44e1-98fb-79de028126cb",
   "metadata": {},
   "outputs": [],
   "source": [
    "vecs = pd.read_pickle(os.path.join(data_dir, \"[SiameseSimilarityNet-relu]-200_epochs.pt-representations.pkl\"))"
   ]
  },
  {
   "cell_type": "code",
   "execution_count": 11,
   "id": "a1fc67be-c57d-4965-8bec-37a9c13d744b",
   "metadata": {},
   "outputs": [
    {
     "data": {
      "text/html": [
       "<div>\n",
       "<style scoped>\n",
       "    .dataframe tbody tr th:only-of-type {\n",
       "        vertical-align: middle;\n",
       "    }\n",
       "\n",
       "    .dataframe tbody tr th {\n",
       "        vertical-align: top;\n",
       "    }\n",
       "\n",
       "    .dataframe thead th {\n",
       "        text-align: right;\n",
       "    }\n",
       "</style>\n",
       "<table border=\"1\" class=\"dataframe\">\n",
       "  <thead>\n",
       "    <tr style=\"text-align: right;\">\n",
       "      <th></th>\n",
       "      <th>protein</th>\n",
       "      <th>vector</th>\n",
       "      <th>set</th>\n",
       "    </tr>\n",
       "  </thead>\n",
       "  <tbody>\n",
       "    <tr>\n",
       "      <th>0</th>\n",
       "      <td>C1P607</td>\n",
       "      <td>[0.0, 0.0, 0.028081667, 0.0, 0.0, 0.0, 0.05079...</td>\n",
       "      <td>train</td>\n",
       "    </tr>\n",
       "    <tr>\n",
       "      <th>1</th>\n",
       "      <td>C1P615</td>\n",
       "      <td>[0.0, 0.0, 0.028081667, 0.0, 0.0, 0.0, 0.05079...</td>\n",
       "      <td>train</td>\n",
       "    </tr>\n",
       "    <tr>\n",
       "      <th>2</th>\n",
       "      <td>O32528</td>\n",
       "      <td>[0.0024854182, 0.006133383, 0.055946045, 0.002...</td>\n",
       "      <td>train</td>\n",
       "    </tr>\n",
       "    <tr>\n",
       "      <th>3</th>\n",
       "      <td>P00350</td>\n",
       "      <td>[0.0, 0.0030821683, 0.036483362, 0.0026226195,...</td>\n",
       "      <td>train</td>\n",
       "    </tr>\n",
       "    <tr>\n",
       "      <th>4</th>\n",
       "      <td>P00363</td>\n",
       "      <td>[0.0, 0.006019949, 0.039784305, 0.008943755, 0...</td>\n",
       "      <td>train</td>\n",
       "    </tr>\n",
       "    <tr>\n",
       "      <th>...</th>\n",
       "      <td>...</td>\n",
       "      <td>...</td>\n",
       "      <td>...</td>\n",
       "    </tr>\n",
       "    <tr>\n",
       "      <th>2267</th>\n",
       "      <td>Q47149</td>\n",
       "      <td>[0.00083081634, 0.008667405, 0.0, 0.013155985,...</td>\n",
       "      <td>test</td>\n",
       "    </tr>\n",
       "    <tr>\n",
       "      <th>2268</th>\n",
       "      <td>Q47538</td>\n",
       "      <td>[0.0042851022, 0.011407573, 0.0, 0.0080877915,...</td>\n",
       "      <td>test</td>\n",
       "    </tr>\n",
       "    <tr>\n",
       "      <th>2269</th>\n",
       "      <td>Q47689</td>\n",
       "      <td>[0.00094289955, 0.0055822255, 0.011060322, 0.0...</td>\n",
       "      <td>test</td>\n",
       "    </tr>\n",
       "    <tr>\n",
       "      <th>2270</th>\n",
       "      <td>Q57261</td>\n",
       "      <td>[0.00040532384, 0.0039133285, 0.027630303, 0.0...</td>\n",
       "      <td>test</td>\n",
       "    </tr>\n",
       "    <tr>\n",
       "      <th>2271</th>\n",
       "      <td>Q6BF17</td>\n",
       "      <td>[0.008307761, 0.010651258, 0.016043931, 0.0152...</td>\n",
       "      <td>test</td>\n",
       "    </tr>\n",
       "  </tbody>\n",
       "</table>\n",
       "<p>2272 rows × 3 columns</p>\n",
       "</div>"
      ],
      "text/plain": [
       "     protein                                             vector    set\n",
       "0     C1P607  [0.0, 0.0, 0.028081667, 0.0, 0.0, 0.0, 0.05079...  train\n",
       "1     C1P615  [0.0, 0.0, 0.028081667, 0.0, 0.0, 0.0, 0.05079...  train\n",
       "2     O32528  [0.0024854182, 0.006133383, 0.055946045, 0.002...  train\n",
       "3     P00350  [0.0, 0.0030821683, 0.036483362, 0.0026226195,...  train\n",
       "4     P00363  [0.0, 0.006019949, 0.039784305, 0.008943755, 0...  train\n",
       "...      ...                                                ...    ...\n",
       "2267  Q47149  [0.00083081634, 0.008667405, 0.0, 0.013155985,...   test\n",
       "2268  Q47538  [0.0042851022, 0.011407573, 0.0, 0.0080877915,...   test\n",
       "2269  Q47689  [0.00094289955, 0.0055822255, 0.011060322, 0.0...   test\n",
       "2270  Q57261  [0.00040532384, 0.0039133285, 0.027630303, 0.0...   test\n",
       "2271  Q6BF17  [0.008307761, 0.010651258, 0.016043931, 0.0152...   test\n",
       "\n",
       "[2272 rows x 3 columns]"
      ]
     },
     "execution_count": 11,
     "metadata": {},
     "output_type": "execute_result"
    }
   ],
   "source": [
    "vecs"
   ]
  },
  {
   "cell_type": "code",
   "execution_count": null,
   "id": "f308f03b-44cf-4840-8964-0cf1207d49aa",
   "metadata": {},
   "outputs": [],
   "source": []
  }
 ],
 "metadata": {
  "kernelspec": {
   "display_name": "Python 3 (ipykernel)",
   "language": "python",
   "name": "python3"
  },
  "language_info": {
   "codemirror_mode": {
    "name": "ipython",
    "version": 3
   },
   "file_extension": ".py",
   "mimetype": "text/x-python",
   "name": "python",
   "nbconvert_exporter": "python",
   "pygments_lexer": "ipython3",
   "version": "3.9.1"
  }
 },
 "nbformat": 4,
 "nbformat_minor": 5
}
